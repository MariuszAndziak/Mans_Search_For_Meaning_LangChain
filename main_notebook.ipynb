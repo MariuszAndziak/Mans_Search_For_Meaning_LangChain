{
  "nbformat": 4,
  "nbformat_minor": 0,
  "metadata": {
    "colab": {
      "provenance": []
    },
    "kernelspec": {
      "name": "python3",
      "display_name": "Python 3"
    },
    "language_info": {
      "name": "python"
    },
    "widgets": {
      "application/vnd.jupyter.widget-state+json": {
        "3980b650c60c48988b8f85e4a7f493c4": {
          "model_module": "@jupyter-widgets/controls",
          "model_name": "HBoxModel",
          "model_module_version": "1.5.0",
          "state": {
            "_dom_classes": [],
            "_model_module": "@jupyter-widgets/controls",
            "_model_module_version": "1.5.0",
            "_model_name": "HBoxModel",
            "_view_count": null,
            "_view_module": "@jupyter-widgets/controls",
            "_view_module_version": "1.5.0",
            "_view_name": "HBoxView",
            "box_style": "",
            "children": [
              "IPY_MODEL_4eaaa5c455cc4077bc3e7b91a0718852",
              "IPY_MODEL_cc319aa349b946a4b287fbaa5a878f4b",
              "IPY_MODEL_b0b153324b63409ba871aa437ee26da7"
            ],
            "layout": "IPY_MODEL_bdbbd327091b4779b2651122efd319ff"
          }
        },
        "4eaaa5c455cc4077bc3e7b91a0718852": {
          "model_module": "@jupyter-widgets/controls",
          "model_name": "HTMLModel",
          "model_module_version": "1.5.0",
          "state": {
            "_dom_classes": [],
            "_model_module": "@jupyter-widgets/controls",
            "_model_module_version": "1.5.0",
            "_model_name": "HTMLModel",
            "_view_count": null,
            "_view_module": "@jupyter-widgets/controls",
            "_view_module_version": "1.5.0",
            "_view_name": "HTMLView",
            "description": "",
            "description_tooltip": null,
            "layout": "IPY_MODEL_217c6e36913f40c69c0a76f6f2fb59a1",
            "placeholder": "​",
            "style": "IPY_MODEL_620e523396e44c34960b896d00c83996",
            "value": "Downloading model_final.pth: 100%"
          }
        },
        "cc319aa349b946a4b287fbaa5a878f4b": {
          "model_module": "@jupyter-widgets/controls",
          "model_name": "FloatProgressModel",
          "model_module_version": "1.5.0",
          "state": {
            "_dom_classes": [],
            "_model_module": "@jupyter-widgets/controls",
            "_model_module_version": "1.5.0",
            "_model_name": "FloatProgressModel",
            "_view_count": null,
            "_view_module": "@jupyter-widgets/controls",
            "_view_module_version": "1.5.0",
            "_view_name": "ProgressView",
            "bar_style": "success",
            "description": "",
            "description_tooltip": null,
            "layout": "IPY_MODEL_045e8227bbf94f839fd061228ead3c70",
            "max": 330185761,
            "min": 0,
            "orientation": "horizontal",
            "style": "IPY_MODEL_84ee2321c0674c3da4a5ee4f1cf2ee1b",
            "value": 330185761
          }
        },
        "b0b153324b63409ba871aa437ee26da7": {
          "model_module": "@jupyter-widgets/controls",
          "model_name": "HTMLModel",
          "model_module_version": "1.5.0",
          "state": {
            "_dom_classes": [],
            "_model_module": "@jupyter-widgets/controls",
            "_model_module_version": "1.5.0",
            "_model_name": "HTMLModel",
            "_view_count": null,
            "_view_module": "@jupyter-widgets/controls",
            "_view_module_version": "1.5.0",
            "_view_name": "HTMLView",
            "description": "",
            "description_tooltip": null,
            "layout": "IPY_MODEL_a41e96cc4aed4e569a5c155f3b541fb1",
            "placeholder": "​",
            "style": "IPY_MODEL_14c4e9b7e726486c9b3ebab7f0b43722",
            "value": " 330M/330M [00:03&lt;00:00, 86.9MB/s]"
          }
        },
        "bdbbd327091b4779b2651122efd319ff": {
          "model_module": "@jupyter-widgets/base",
          "model_name": "LayoutModel",
          "model_module_version": "1.2.0",
          "state": {
            "_model_module": "@jupyter-widgets/base",
            "_model_module_version": "1.2.0",
            "_model_name": "LayoutModel",
            "_view_count": null,
            "_view_module": "@jupyter-widgets/base",
            "_view_module_version": "1.2.0",
            "_view_name": "LayoutView",
            "align_content": null,
            "align_items": null,
            "align_self": null,
            "border": null,
            "bottom": null,
            "display": null,
            "flex": null,
            "flex_flow": null,
            "grid_area": null,
            "grid_auto_columns": null,
            "grid_auto_flow": null,
            "grid_auto_rows": null,
            "grid_column": null,
            "grid_gap": null,
            "grid_row": null,
            "grid_template_areas": null,
            "grid_template_columns": null,
            "grid_template_rows": null,
            "height": null,
            "justify_content": null,
            "justify_items": null,
            "left": null,
            "margin": null,
            "max_height": null,
            "max_width": null,
            "min_height": null,
            "min_width": null,
            "object_fit": null,
            "object_position": null,
            "order": null,
            "overflow": null,
            "overflow_x": null,
            "overflow_y": null,
            "padding": null,
            "right": null,
            "top": null,
            "visibility": null,
            "width": null
          }
        },
        "217c6e36913f40c69c0a76f6f2fb59a1": {
          "model_module": "@jupyter-widgets/base",
          "model_name": "LayoutModel",
          "model_module_version": "1.2.0",
          "state": {
            "_model_module": "@jupyter-widgets/base",
            "_model_module_version": "1.2.0",
            "_model_name": "LayoutModel",
            "_view_count": null,
            "_view_module": "@jupyter-widgets/base",
            "_view_module_version": "1.2.0",
            "_view_name": "LayoutView",
            "align_content": null,
            "align_items": null,
            "align_self": null,
            "border": null,
            "bottom": null,
            "display": null,
            "flex": null,
            "flex_flow": null,
            "grid_area": null,
            "grid_auto_columns": null,
            "grid_auto_flow": null,
            "grid_auto_rows": null,
            "grid_column": null,
            "grid_gap": null,
            "grid_row": null,
            "grid_template_areas": null,
            "grid_template_columns": null,
            "grid_template_rows": null,
            "height": null,
            "justify_content": null,
            "justify_items": null,
            "left": null,
            "margin": null,
            "max_height": null,
            "max_width": null,
            "min_height": null,
            "min_width": null,
            "object_fit": null,
            "object_position": null,
            "order": null,
            "overflow": null,
            "overflow_x": null,
            "overflow_y": null,
            "padding": null,
            "right": null,
            "top": null,
            "visibility": null,
            "width": null
          }
        },
        "620e523396e44c34960b896d00c83996": {
          "model_module": "@jupyter-widgets/controls",
          "model_name": "DescriptionStyleModel",
          "model_module_version": "1.5.0",
          "state": {
            "_model_module": "@jupyter-widgets/controls",
            "_model_module_version": "1.5.0",
            "_model_name": "DescriptionStyleModel",
            "_view_count": null,
            "_view_module": "@jupyter-widgets/base",
            "_view_module_version": "1.2.0",
            "_view_name": "StyleView",
            "description_width": ""
          }
        },
        "045e8227bbf94f839fd061228ead3c70": {
          "model_module": "@jupyter-widgets/base",
          "model_name": "LayoutModel",
          "model_module_version": "1.2.0",
          "state": {
            "_model_module": "@jupyter-widgets/base",
            "_model_module_version": "1.2.0",
            "_model_name": "LayoutModel",
            "_view_count": null,
            "_view_module": "@jupyter-widgets/base",
            "_view_module_version": "1.2.0",
            "_view_name": "LayoutView",
            "align_content": null,
            "align_items": null,
            "align_self": null,
            "border": null,
            "bottom": null,
            "display": null,
            "flex": null,
            "flex_flow": null,
            "grid_area": null,
            "grid_auto_columns": null,
            "grid_auto_flow": null,
            "grid_auto_rows": null,
            "grid_column": null,
            "grid_gap": null,
            "grid_row": null,
            "grid_template_areas": null,
            "grid_template_columns": null,
            "grid_template_rows": null,
            "height": null,
            "justify_content": null,
            "justify_items": null,
            "left": null,
            "margin": null,
            "max_height": null,
            "max_width": null,
            "min_height": null,
            "min_width": null,
            "object_fit": null,
            "object_position": null,
            "order": null,
            "overflow": null,
            "overflow_x": null,
            "overflow_y": null,
            "padding": null,
            "right": null,
            "top": null,
            "visibility": null,
            "width": null
          }
        },
        "84ee2321c0674c3da4a5ee4f1cf2ee1b": {
          "model_module": "@jupyter-widgets/controls",
          "model_name": "ProgressStyleModel",
          "model_module_version": "1.5.0",
          "state": {
            "_model_module": "@jupyter-widgets/controls",
            "_model_module_version": "1.5.0",
            "_model_name": "ProgressStyleModel",
            "_view_count": null,
            "_view_module": "@jupyter-widgets/base",
            "_view_module_version": "1.2.0",
            "_view_name": "StyleView",
            "bar_color": null,
            "description_width": ""
          }
        },
        "a41e96cc4aed4e569a5c155f3b541fb1": {
          "model_module": "@jupyter-widgets/base",
          "model_name": "LayoutModel",
          "model_module_version": "1.2.0",
          "state": {
            "_model_module": "@jupyter-widgets/base",
            "_model_module_version": "1.2.0",
            "_model_name": "LayoutModel",
            "_view_count": null,
            "_view_module": "@jupyter-widgets/base",
            "_view_module_version": "1.2.0",
            "_view_name": "LayoutView",
            "align_content": null,
            "align_items": null,
            "align_self": null,
            "border": null,
            "bottom": null,
            "display": null,
            "flex": null,
            "flex_flow": null,
            "grid_area": null,
            "grid_auto_columns": null,
            "grid_auto_flow": null,
            "grid_auto_rows": null,
            "grid_column": null,
            "grid_gap": null,
            "grid_row": null,
            "grid_template_areas": null,
            "grid_template_columns": null,
            "grid_template_rows": null,
            "height": null,
            "justify_content": null,
            "justify_items": null,
            "left": null,
            "margin": null,
            "max_height": null,
            "max_width": null,
            "min_height": null,
            "min_width": null,
            "object_fit": null,
            "object_position": null,
            "order": null,
            "overflow": null,
            "overflow_x": null,
            "overflow_y": null,
            "padding": null,
            "right": null,
            "top": null,
            "visibility": null,
            "width": null
          }
        },
        "14c4e9b7e726486c9b3ebab7f0b43722": {
          "model_module": "@jupyter-widgets/controls",
          "model_name": "DescriptionStyleModel",
          "model_module_version": "1.5.0",
          "state": {
            "_model_module": "@jupyter-widgets/controls",
            "_model_module_version": "1.5.0",
            "_model_name": "DescriptionStyleModel",
            "_view_count": null,
            "_view_module": "@jupyter-widgets/base",
            "_view_module_version": "1.2.0",
            "_view_name": "StyleView",
            "description_width": ""
          }
        },
        "954602967d74466c9fc45f8e380badbe": {
          "model_module": "@jupyter-widgets/controls",
          "model_name": "HBoxModel",
          "model_module_version": "1.5.0",
          "state": {
            "_dom_classes": [],
            "_model_module": "@jupyter-widgets/controls",
            "_model_module_version": "1.5.0",
            "_model_name": "HBoxModel",
            "_view_count": null,
            "_view_module": "@jupyter-widgets/controls",
            "_view_module_version": "1.5.0",
            "_view_name": "HBoxView",
            "box_style": "",
            "children": [
              "IPY_MODEL_de9262d553614ba6b0ff4d1684e699ae",
              "IPY_MODEL_560c4ebfac344b41b602fe23b73a445d",
              "IPY_MODEL_3c16d04cb0314f51ab47eccfb21fa705"
            ],
            "layout": "IPY_MODEL_4a2dd58144844565910b4c6ed66c4770"
          }
        },
        "de9262d553614ba6b0ff4d1684e699ae": {
          "model_module": "@jupyter-widgets/controls",
          "model_name": "HTMLModel",
          "model_module_version": "1.5.0",
          "state": {
            "_dom_classes": [],
            "_model_module": "@jupyter-widgets/controls",
            "_model_module_version": "1.5.0",
            "_model_name": "HTMLModel",
            "_view_count": null,
            "_view_module": "@jupyter-widgets/controls",
            "_view_module_version": "1.5.0",
            "_view_name": "HTMLView",
            "description": "",
            "description_tooltip": null,
            "layout": "IPY_MODEL_d5e6f2020ce247508f570ea5959b1e29",
            "placeholder": "​",
            "style": "IPY_MODEL_dd95c826341f4c038ce2f68e5247d692",
            "value": "Downloading (…)50_FPN_3x/config.yml: 100%"
          }
        },
        "560c4ebfac344b41b602fe23b73a445d": {
          "model_module": "@jupyter-widgets/controls",
          "model_name": "FloatProgressModel",
          "model_module_version": "1.5.0",
          "state": {
            "_dom_classes": [],
            "_model_module": "@jupyter-widgets/controls",
            "_model_module_version": "1.5.0",
            "_model_name": "FloatProgressModel",
            "_view_count": null,
            "_view_module": "@jupyter-widgets/controls",
            "_view_module_version": "1.5.0",
            "_view_name": "ProgressView",
            "bar_style": "success",
            "description": "",
            "description_tooltip": null,
            "layout": "IPY_MODEL_bafaef0ebdfd4566b5aaf051219e6706",
            "max": 5374,
            "min": 0,
            "orientation": "horizontal",
            "style": "IPY_MODEL_981eea03cf75427aa5e86029d01c2be8",
            "value": 5374
          }
        },
        "3c16d04cb0314f51ab47eccfb21fa705": {
          "model_module": "@jupyter-widgets/controls",
          "model_name": "HTMLModel",
          "model_module_version": "1.5.0",
          "state": {
            "_dom_classes": [],
            "_model_module": "@jupyter-widgets/controls",
            "_model_module_version": "1.5.0",
            "_model_name": "HTMLModel",
            "_view_count": null,
            "_view_module": "@jupyter-widgets/controls",
            "_view_module_version": "1.5.0",
            "_view_name": "HTMLView",
            "description": "",
            "description_tooltip": null,
            "layout": "IPY_MODEL_dcf3cf1844b94e5592070689c7451483",
            "placeholder": "​",
            "style": "IPY_MODEL_2e6de3f993ad4cbeaab4bacb61ac7356",
            "value": " 5.37k/5.37k [00:00&lt;00:00, 103kB/s]"
          }
        },
        "4a2dd58144844565910b4c6ed66c4770": {
          "model_module": "@jupyter-widgets/base",
          "model_name": "LayoutModel",
          "model_module_version": "1.2.0",
          "state": {
            "_model_module": "@jupyter-widgets/base",
            "_model_module_version": "1.2.0",
            "_model_name": "LayoutModel",
            "_view_count": null,
            "_view_module": "@jupyter-widgets/base",
            "_view_module_version": "1.2.0",
            "_view_name": "LayoutView",
            "align_content": null,
            "align_items": null,
            "align_self": null,
            "border": null,
            "bottom": null,
            "display": null,
            "flex": null,
            "flex_flow": null,
            "grid_area": null,
            "grid_auto_columns": null,
            "grid_auto_flow": null,
            "grid_auto_rows": null,
            "grid_column": null,
            "grid_gap": null,
            "grid_row": null,
            "grid_template_areas": null,
            "grid_template_columns": null,
            "grid_template_rows": null,
            "height": null,
            "justify_content": null,
            "justify_items": null,
            "left": null,
            "margin": null,
            "max_height": null,
            "max_width": null,
            "min_height": null,
            "min_width": null,
            "object_fit": null,
            "object_position": null,
            "order": null,
            "overflow": null,
            "overflow_x": null,
            "overflow_y": null,
            "padding": null,
            "right": null,
            "top": null,
            "visibility": null,
            "width": null
          }
        },
        "d5e6f2020ce247508f570ea5959b1e29": {
          "model_module": "@jupyter-widgets/base",
          "model_name": "LayoutModel",
          "model_module_version": "1.2.0",
          "state": {
            "_model_module": "@jupyter-widgets/base",
            "_model_module_version": "1.2.0",
            "_model_name": "LayoutModel",
            "_view_count": null,
            "_view_module": "@jupyter-widgets/base",
            "_view_module_version": "1.2.0",
            "_view_name": "LayoutView",
            "align_content": null,
            "align_items": null,
            "align_self": null,
            "border": null,
            "bottom": null,
            "display": null,
            "flex": null,
            "flex_flow": null,
            "grid_area": null,
            "grid_auto_columns": null,
            "grid_auto_flow": null,
            "grid_auto_rows": null,
            "grid_column": null,
            "grid_gap": null,
            "grid_row": null,
            "grid_template_areas": null,
            "grid_template_columns": null,
            "grid_template_rows": null,
            "height": null,
            "justify_content": null,
            "justify_items": null,
            "left": null,
            "margin": null,
            "max_height": null,
            "max_width": null,
            "min_height": null,
            "min_width": null,
            "object_fit": null,
            "object_position": null,
            "order": null,
            "overflow": null,
            "overflow_x": null,
            "overflow_y": null,
            "padding": null,
            "right": null,
            "top": null,
            "visibility": null,
            "width": null
          }
        },
        "dd95c826341f4c038ce2f68e5247d692": {
          "model_module": "@jupyter-widgets/controls",
          "model_name": "DescriptionStyleModel",
          "model_module_version": "1.5.0",
          "state": {
            "_model_module": "@jupyter-widgets/controls",
            "_model_module_version": "1.5.0",
            "_model_name": "DescriptionStyleModel",
            "_view_count": null,
            "_view_module": "@jupyter-widgets/base",
            "_view_module_version": "1.2.0",
            "_view_name": "StyleView",
            "description_width": ""
          }
        },
        "bafaef0ebdfd4566b5aaf051219e6706": {
          "model_module": "@jupyter-widgets/base",
          "model_name": "LayoutModel",
          "model_module_version": "1.2.0",
          "state": {
            "_model_module": "@jupyter-widgets/base",
            "_model_module_version": "1.2.0",
            "_model_name": "LayoutModel",
            "_view_count": null,
            "_view_module": "@jupyter-widgets/base",
            "_view_module_version": "1.2.0",
            "_view_name": "LayoutView",
            "align_content": null,
            "align_items": null,
            "align_self": null,
            "border": null,
            "bottom": null,
            "display": null,
            "flex": null,
            "flex_flow": null,
            "grid_area": null,
            "grid_auto_columns": null,
            "grid_auto_flow": null,
            "grid_auto_rows": null,
            "grid_column": null,
            "grid_gap": null,
            "grid_row": null,
            "grid_template_areas": null,
            "grid_template_columns": null,
            "grid_template_rows": null,
            "height": null,
            "justify_content": null,
            "justify_items": null,
            "left": null,
            "margin": null,
            "max_height": null,
            "max_width": null,
            "min_height": null,
            "min_width": null,
            "object_fit": null,
            "object_position": null,
            "order": null,
            "overflow": null,
            "overflow_x": null,
            "overflow_y": null,
            "padding": null,
            "right": null,
            "top": null,
            "visibility": null,
            "width": null
          }
        },
        "981eea03cf75427aa5e86029d01c2be8": {
          "model_module": "@jupyter-widgets/controls",
          "model_name": "ProgressStyleModel",
          "model_module_version": "1.5.0",
          "state": {
            "_model_module": "@jupyter-widgets/controls",
            "_model_module_version": "1.5.0",
            "_model_name": "ProgressStyleModel",
            "_view_count": null,
            "_view_module": "@jupyter-widgets/base",
            "_view_module_version": "1.2.0",
            "_view_name": "StyleView",
            "bar_color": null,
            "description_width": ""
          }
        },
        "dcf3cf1844b94e5592070689c7451483": {
          "model_module": "@jupyter-widgets/base",
          "model_name": "LayoutModel",
          "model_module_version": "1.2.0",
          "state": {
            "_model_module": "@jupyter-widgets/base",
            "_model_module_version": "1.2.0",
            "_model_name": "LayoutModel",
            "_view_count": null,
            "_view_module": "@jupyter-widgets/base",
            "_view_module_version": "1.2.0",
            "_view_name": "LayoutView",
            "align_content": null,
            "align_items": null,
            "align_self": null,
            "border": null,
            "bottom": null,
            "display": null,
            "flex": null,
            "flex_flow": null,
            "grid_area": null,
            "grid_auto_columns": null,
            "grid_auto_flow": null,
            "grid_auto_rows": null,
            "grid_column": null,
            "grid_gap": null,
            "grid_row": null,
            "grid_template_areas": null,
            "grid_template_columns": null,
            "grid_template_rows": null,
            "height": null,
            "justify_content": null,
            "justify_items": null,
            "left": null,
            "margin": null,
            "max_height": null,
            "max_width": null,
            "min_height": null,
            "min_width": null,
            "object_fit": null,
            "object_position": null,
            "order": null,
            "overflow": null,
            "overflow_x": null,
            "overflow_y": null,
            "padding": null,
            "right": null,
            "top": null,
            "visibility": null,
            "width": null
          }
        },
        "2e6de3f993ad4cbeaab4bacb61ac7356": {
          "model_module": "@jupyter-widgets/controls",
          "model_name": "DescriptionStyleModel",
          "model_module_version": "1.5.0",
          "state": {
            "_model_module": "@jupyter-widgets/controls",
            "_model_module_version": "1.5.0",
            "_model_name": "DescriptionStyleModel",
            "_view_count": null,
            "_view_module": "@jupyter-widgets/base",
            "_view_module_version": "1.2.0",
            "_view_name": "StyleView",
            "description_width": ""
          }
        }
      }
    }
  },
  "cells": [
    {
      "cell_type": "markdown",
      "source": [
        "## Project goal"
      ],
      "metadata": {
        "id": "sAzoFrAfQsN-"
      }
    },
    {
      "cell_type": "markdown",
      "source": [
        "Get valuable insights from a predefined text document. The obtained information should include at minimum the basic premise of the text, the outline and main topics mentioned in the text. Additional information may be extracted from the main content.\n",
        "\n",
        "\n",
        "The text analysis will focus on the book: \"[Man's Search for Meaning](https://www.amazon.com/Mans-Search-Meaning-Viktor-Frankl-ebook/dp/B009U9S6FI)\" by [Viktor Frankl](https://en.wikipedia.org/wiki/Viktor_Frankl).\n",
        "\n",
        "This project aims to provide both context knowledge as well as technical knowledge. The meaning of live is one one the fundamental  questions of existance. Finding a solution to such a complex topic isn't trivial and goes beyond the framework of one data project. Discovering meaningful insights however can be informative despite not providing a fix answer to a broad philosophical problem.\n",
        "\n",
        "This project at it's basis uses [LangChain](https://github.com/hwchase17/langchain) and OpenAI's GPT3.5. The technical focus of the project is based arround setting up LangChain model calls to obtain meaningfull and reasonable answers for questions and tasks provided by the user. \n",
        "\n",
        "Certain book passages were mentioned in comparison to the model responses.\n",
        "\n",
        "The project uses [Pinecone](https://www.pinecone.io/) - a vector database perfect for text semantic search."
      ],
      "metadata": {
        "id": "kTD_ughYQvcF"
      }
    },
    {
      "cell_type": "markdown",
      "source": [
        "### Libraries instalation"
      ],
      "metadata": {
        "id": "WMdeOV6ufk19"
      }
    },
    {
      "cell_type": "markdown",
      "source": [
        "The notebook uses LangChain, which requires some external libraries to be installed."
      ],
      "metadata": {
        "id": "Tj1u-xaihvja"
      }
    },
    {
      "cell_type": "code",
      "source": [
        "!pip install langchain\n",
        "!pip install unstructured\n",
        "!pip install unstructured[local-inference]\n",
        "!apt-get install poppler-utils \n",
        "\n",
        "!pip install openai\n",
        "!pip install pinecone-client\n",
        "!pip install tiktoken"
      ],
      "metadata": {
        "id": "t2It_vyf-3e-"
      },
      "execution_count": null,
      "outputs": []
    },
    {
      "cell_type": "code",
      "source": [
        "!apt install tesseract-ocr\n",
        "!apt install libtesseract-de\n",
        "\n",
        "!pip install chromadb"
      ],
      "metadata": {
        "id": "FuLr5NrfFc2K"
      },
      "execution_count": null,
      "outputs": []
    },
    {
      "cell_type": "code",
      "source": [
        "!pip install \"detectron2@git+https://github.com/facebookresearch/detectron2.git@v0.6#egg=detectron2\""
      ],
      "metadata": {
        "id": "VHc3O6ueCksx"
      },
      "execution_count": null,
      "outputs": []
    },
    {
      "cell_type": "markdown",
      "source": [
        "### Libraries initialization"
      ],
      "metadata": {
        "id": "4x9KOrMGf7c5"
      }
    },
    {
      "cell_type": "code",
      "source": [
        "import os\n",
        "import json\n",
        "\n",
        "import pinecone\n",
        "\n",
        "import langchain\n",
        "from langchain.document_loaders import UnstructuredPDFLoader\n",
        "from langchain.text_splitter import RecursiveCharacterTextSplitter\n",
        "\n",
        "from langchain.vectorstores import Chroma, Pinecone\n",
        "from langchain.embeddings.openai import OpenAIEmbeddings\n",
        "\n",
        "from langchain.llms import OpenAI\n",
        "from langchain.chains.question_answering import load_qa_chain"
      ],
      "metadata": {
        "id": "jaG_hEEx-6tp"
      },
      "execution_count": null,
      "outputs": []
    },
    {
      "cell_type": "markdown",
      "source": [
        "### Credentials set-up"
      ],
      "metadata": {
        "id": "qpCCEIl3hdQZ"
      }
    },
    {
      "cell_type": "code",
      "source": [
        "def load_api_keys(credentials_file_name: str = 'credentials.json') -> tuple:\n",
        "    '''Load API keys from file\n",
        "\n",
        "    Arguments:\n",
        "        credentials_file_name: name of file containing credentials\n",
        "\n",
        "    Returns:\n",
        "        A tuple containing OpenAI API Key, Pinecone API key and Pinecone API\n",
        "        environment name\n",
        "\n",
        "    '''\n",
        "    \n",
        "    if os.path.exists(credentials_file_name):\n",
        "\n",
        "      # open credentials file \n",
        "        with open(credentials_file_name) as f:\n",
        "            content = json.load(f)\n",
        "\n",
        "            # load api keys\n",
        "            OPENAI_API_KEY = content['OPENAI_API_KEY']\n",
        "            PINECONE_API_KEY = content['PINECONE_API_KEY']\n",
        "            PINECONE_API_ENV = content['PINECONE_API_ENV']\n",
        "    else:\n",
        "        return f'No file {credentials_file_name} or file corrupted'\n",
        "\n",
        "    return OPENAI_API_KEY, PINECONE_API_KEY, PINECONE_API_ENV\n"
      ],
      "metadata": {
        "id": "h9RQXb7E_IJ9"
      },
      "execution_count": null,
      "outputs": []
    },
    {
      "cell_type": "code",
      "source": [
        "# load the API keys from credential file and setup OPENAI API KEY as an environmental\n",
        "# variable\n",
        "OPENAI_API_KEY, PINECONE_API_KEY, PINECONE_API_ENV = load_api_keys('credentials.json')\n",
        "os.environ['OPENAI_API_KEY'] = OPENAI_API_KEY"
      ],
      "metadata": {
        "id": "gwaR5cVWALl0"
      },
      "execution_count": null,
      "outputs": []
    },
    {
      "cell_type": "code",
      "source": [],
      "metadata": {
        "id": "762k6Vxfd6Os"
      },
      "execution_count": null,
      "outputs": []
    },
    {
      "cell_type": "markdown",
      "source": [
        "### Book load"
      ],
      "metadata": {
        "id": "RNj2XXUWARUb"
      }
    },
    {
      "cell_type": "markdown",
      "source": [
        "The book itself is loaded to a hard drive. Do to its size it has to be split into smaller chunks."
      ],
      "metadata": {
        "id": "qhFc3ml8YXHc"
      }
    },
    {
      "cell_type": "code",
      "source": [
        "loader = UnstructuredPDFLoader('/content/input/book.pdf')\n",
        "book = loader.load()"
      ],
      "metadata": {
        "id": "NXz2DA8WBAg0",
        "colab": {
          "base_uri": "https://localhost:8080/",
          "height": 168,
          "referenced_widgets": [
            "3980b650c60c48988b8f85e4a7f493c4",
            "4eaaa5c455cc4077bc3e7b91a0718852",
            "cc319aa349b946a4b287fbaa5a878f4b",
            "b0b153324b63409ba871aa437ee26da7",
            "bdbbd327091b4779b2651122efd319ff",
            "217c6e36913f40c69c0a76f6f2fb59a1",
            "620e523396e44c34960b896d00c83996",
            "045e8227bbf94f839fd061228ead3c70",
            "84ee2321c0674c3da4a5ee4f1cf2ee1b",
            "a41e96cc4aed4e569a5c155f3b541fb1",
            "14c4e9b7e726486c9b3ebab7f0b43722",
            "954602967d74466c9fc45f8e380badbe",
            "de9262d553614ba6b0ff4d1684e699ae",
            "560c4ebfac344b41b602fe23b73a445d",
            "3c16d04cb0314f51ab47eccfb21fa705",
            "4a2dd58144844565910b4c6ed66c4770",
            "d5e6f2020ce247508f570ea5959b1e29",
            "dd95c826341f4c038ce2f68e5247d692",
            "bafaef0ebdfd4566b5aaf051219e6706",
            "981eea03cf75427aa5e86029d01c2be8",
            "dcf3cf1844b94e5592070689c7451483",
            "2e6de3f993ad4cbeaab4bacb61ac7356"
          ]
        },
        "outputId": "1238560c-3ae3-4827-d93b-4fd2cadec536"
      },
      "execution_count": null,
      "outputs": [
        {
          "output_type": "stream",
          "name": "stderr",
          "text": [
            "[nltk_data] Downloading package punkt to /root/nltk_data...\n",
            "[nltk_data]   Unzipping tokenizers/punkt.zip.\n",
            "[nltk_data] Downloading package averaged_perceptron_tagger to\n",
            "[nltk_data]     /root/nltk_data...\n",
            "[nltk_data]   Unzipping taggers/averaged_perceptron_tagger.zip.\n"
          ]
        },
        {
          "output_type": "display_data",
          "data": {
            "text/plain": [
              "Downloading model_final.pth:   0%|          | 0.00/330M [00:00<?, ?B/s]"
            ],
            "application/vnd.jupyter.widget-view+json": {
              "version_major": 2,
              "version_minor": 0,
              "model_id": "3980b650c60c48988b8f85e4a7f493c4"
            }
          },
          "metadata": {}
        },
        {
          "output_type": "display_data",
          "data": {
            "text/plain": [
              "Downloading (…)50_FPN_3x/config.yml:   0%|          | 0.00/5.37k [00:00<?, ?B/s]"
            ],
            "application/vnd.jupyter.widget-view+json": {
              "version_major": 2,
              "version_minor": 0,
              "model_id": "954602967d74466c9fc45f8e380badbe"
            }
          },
          "metadata": {}
        }
      ]
    },
    {
      "cell_type": "code",
      "source": [
        "len(book)"
      ],
      "metadata": {
        "colab": {
          "base_uri": "https://localhost:8080/"
        },
        "id": "DEJmJ8FqDogj",
        "outputId": "b0c678fd-84fc-44b7-d479-ffab4b2375f4"
      },
      "execution_count": null,
      "outputs": [
        {
          "output_type": "execute_result",
          "data": {
            "text/plain": [
              "1"
            ]
          },
          "metadata": {},
          "execution_count": 9
        }
      ]
    },
    {
      "cell_type": "code",
      "source": [
        "# get the first 500 words from the book\n",
        "book[0].page_content[:500]"
      ],
      "metadata": {
        "colab": {
          "base_uri": "https://localhost:8080/",
          "height": 70
        },
        "id": "9b8I6_4LBbQ6",
        "outputId": "9ad68f04-31e8-40d9-9dc3-922fce582fc1"
      },
      "execution_count": null,
      "outputs": [
        {
          "output_type": "execute_result",
          "data": {
            "text/plain": [
              "\"be Bee oer) il \\n\\nRevised and Updated  \\n\\nInternationally renowned psychiatrist.Viktor E. Frankl,endured years of unspeakablehorror in Nazi death camps. During,and partly because of his suffering, Dr. Frankldeveloped a revolutionary approach topsychotherapy known as logotherapy. At thecore of his theory is the belief thatman's primary motivational force is hissearch for meaning.MAN'S SEARCH FOR MEANING is morethan the story of Viktor E. Frankl's triumph:it is a remarkable blend of science andhuman\""
            ],
            "application/vnd.google.colaboratory.intrinsic+json": {
              "type": "string"
            }
          },
          "metadata": {},
          "execution_count": 10
        }
      ]
    },
    {
      "cell_type": "code",
      "source": [],
      "metadata": {
        "id": "S5__37XGt8AC"
      },
      "execution_count": null,
      "outputs": []
    },
    {
      "cell_type": "markdown",
      "source": [
        "### Book split"
      ],
      "metadata": {
        "id": "94Fs1brYh-Ot"
      }
    },
    {
      "cell_type": "code",
      "source": [
        "# The split is handled by LangChain build-in function with 1000 as the chunk size\n",
        "# and with no chunk overlap\n",
        "text_splitter = RecursiveCharacterTextSplitter(chunk_size = 1000, chunk_overlap = 0)\n",
        "texts = text_splitter.split_documents(book)"
      ],
      "metadata": {
        "id": "aAYonKFnCKTr"
      },
      "execution_count": null,
      "outputs": []
    },
    {
      "cell_type": "code",
      "source": [
        "# the book is split into 391 pieces\n",
        "len(texts)"
      ],
      "metadata": {
        "colab": {
          "base_uri": "https://localhost:8080/"
        },
        "id": "8f3Ohvl0KoY7",
        "outputId": "a0976836-e3a4-4521-98ad-d21711f0f098"
      },
      "execution_count": null,
      "outputs": [
        {
          "output_type": "execute_result",
          "data": {
            "text/plain": [
              "391"
            ]
          },
          "metadata": {},
          "execution_count": 12
        }
      ]
    },
    {
      "cell_type": "code",
      "source": [
        "# preview of a random piece\n",
        "texts[12]"
      ],
      "metadata": {
        "colab": {
          "base_uri": "https://localhost:8080/"
        },
        "id": "eHGW9pyoOPYh",
        "outputId": "06b84adb-4f09-41eb-e9a2-bd325998a0ec"
      },
      "execution_count": null,
      "outputs": [
        {
          "output_type": "execute_result",
          "data": {
            "text/plain": [
              "Document(page_content='(\"Logotherapy in a Nutshell\") boils down, as it were, to the lesson one may distill from the first part, the autobiographical account (\"Experiences in a Concen- tration Camp\"), whereas Part One serves as the exis- tential validation of my theories. Thus, both parts mutually support their credibility. I had none of this in mind when I wrote the book in 1945. And I did so within nine successive days and with the firm determination that the book would be published anonymously. In fact, the first printing of the original German version does not show my name on the cover, though at the last moment, just before the book\\'s initial publication, I did finally give in to my friends who had urged me to let it be published with my name at least on the title page. At first, however, it had been written with the absolute conviction that, as an anonymous opus, it could never earn its author literary fame. I had wanted simply to convey to the reader by way of a concrete example that life holds a', metadata={'source': '/content/input/book.pdf'})"
            ]
          },
          "metadata": {},
          "execution_count": 37
        }
      ]
    },
    {
      "cell_type": "code",
      "source": [],
      "metadata": {
        "id": "tyOVlPect9WO"
      },
      "execution_count": null,
      "outputs": []
    },
    {
      "cell_type": "markdown",
      "source": [
        "### Embeddings creation"
      ],
      "metadata": {
        "id": "MJymIXe2OYc_"
      }
    },
    {
      "cell_type": "markdown",
      "source": [
        "OpenAI embeddings will be created for the book content and later upsert to Pinecone database"
      ],
      "metadata": {
        "id": "vpZbzqXhYrGR"
      }
    },
    {
      "cell_type": "code",
      "source": [
        "embeddings = OpenAIEmbeddings(openai_api_key=OPENAI_API_KEY)"
      ],
      "metadata": {
        "id": "Yc_JPZ-qOmg4"
      },
      "execution_count": null,
      "outputs": []
    },
    {
      "cell_type": "code",
      "source": [],
      "metadata": {
        "id": "-KEkpZk4t-4a"
      },
      "execution_count": null,
      "outputs": []
    },
    {
      "cell_type": "markdown",
      "source": [
        "### Pinecone initialization and embeddings dump"
      ],
      "metadata": {
        "id": "wZpvJfh5iS5W"
      }
    },
    {
      "cell_type": "markdown",
      "source": [
        "The database uses GCP environment containing 391 vectors (each for one text) and 1536 dimentions optimized for cosine similarity search"
      ],
      "metadata": {
        "id": "pJB6QgGR6orQ"
      }
    },
    {
      "cell_type": "code",
      "source": [
        "pinecone.init(\n",
        "    api_key = PINECONE_API_KEY,\n",
        "    environment=PINECONE_API_ENV\n",
        ")\n",
        "\n",
        "index_name = 'langchain'\n",
        "\n",
        "docsearch = Pinecone.from_texts([t.page_content for t in texts], embeddings, index_name = index_name)"
      ],
      "metadata": {
        "id": "q7uEAtfXUBbP"
      },
      "execution_count": null,
      "outputs": []
    },
    {
      "cell_type": "code",
      "source": [],
      "metadata": {
        "id": "YUw_aC-BP6RX"
      },
      "execution_count": null,
      "outputs": []
    },
    {
      "cell_type": "markdown",
      "source": [
        "### Chain building and creation of an asking question function"
      ],
      "metadata": {
        "id": "VNZTdbOijNlF"
      }
    },
    {
      "cell_type": "code",
      "source": [
        "llm = OpenAI(temperature = 0, openai_api_key=OPENAI_API_KEY)\n",
        "chain = load_qa_chain(llm, chain_type = 'stuff')"
      ],
      "metadata": {
        "id": "5YMVle3dc--e"
      },
      "execution_count": null,
      "outputs": []
    },
    {
      "cell_type": "code",
      "source": [
        "def ask(query: str, chain = chain) -> str:\n",
        "  docs = docsearch.similarity_search(query, include_metadata = True)\n",
        "  return chain.run(input_documents = docs, question = query)"
      ],
      "metadata": {
        "id": "m5CCUBsSjboW"
      },
      "execution_count": null,
      "outputs": []
    },
    {
      "cell_type": "code",
      "source": [],
      "metadata": {
        "id": "Vwgukzh_uAh2"
      },
      "execution_count": null,
      "outputs": []
    },
    {
      "cell_type": "markdown",
      "source": [
        "### Asking questions"
      ],
      "metadata": {
        "id": "ptXU9puZke1F"
      }
    },
    {
      "cell_type": "code",
      "source": [
        "ask(\"What thought kept the author alive in the concentration camp?\")"
      ],
      "metadata": {
        "id": "BSPZJzGlQ4hN",
        "colab": {
          "base_uri": "https://localhost:8080/",
          "height": 35
        },
        "outputId": "aea7ec33-1378-4acb-a5e4-8030112bd58b"
      },
      "execution_count": null,
      "outputs": [
        {
          "output_type": "execute_result",
          "data": {
            "text/plain": [
              "' The thought that there was a meaning in his life and that whatever he had gone through could still be an asset to him in the future.'"
            ],
            "application/vnd.google.colaboratory.intrinsic+json": {
              "type": "string"
            }
          },
          "metadata": {},
          "execution_count": 24
        }
      ]
    },
    {
      "cell_type": "code",
      "source": [
        "ask(\"Who were Capos?\")"
      ],
      "metadata": {
        "colab": {
          "base_uri": "https://localhost:8080/",
          "height": 53
        },
        "id": "khOw7M8f0lJ1",
        "outputId": "2fc2fcd3-7644-410a-d18b-caec4602af71"
      },
      "execution_count": null,
      "outputs": [
        {
          "output_type": "execute_result",
          "data": {
            "text/plain": [
              "' Capos were prisoners in concentration camps who were chosen by the guards to be in charge of other prisoners. They were often harder on the prisoners than the guards and had more privileges than the other prisoners.'"
            ],
            "application/vnd.google.colaboratory.intrinsic+json": {
              "type": "string"
            }
          },
          "metadata": {},
          "execution_count": 25
        }
      ]
    },
    {
      "cell_type": "code",
      "source": [
        "ask(\"When someone developed the trait of seeing bad things in a good light, was this a good survival strategy?\")"
      ],
      "metadata": {
        "colab": {
          "base_uri": "https://localhost:8080/",
          "height": 35
        },
        "id": "2eh9L3Qs1sUP",
        "outputId": "6ea23bc5-2703-429d-d6f5-48183811ada1"
      },
      "execution_count": null,
      "outputs": [
        {
          "output_type": "execute_result",
          "data": {
            "text/plain": [
              "' Yes, this was a good survival strategy because it allowed people to cope with difficult situations and find meaning in suffering.'"
            ],
            "application/vnd.google.colaboratory.intrinsic+json": {
              "type": "string"
            }
          },
          "metadata": {},
          "execution_count": 26
        }
      ]
    },
    {
      "cell_type": "code",
      "source": [
        "ask(\"Did Dr. Frankl sister survive the concentration camp?\")"
      ],
      "metadata": {
        "colab": {
          "base_uri": "https://localhost:8080/",
          "height": 35
        },
        "id": "45eGWiYK2mkO",
        "outputId": "1355570b-17c9-4df5-f79a-fd5968cd18f7"
      },
      "execution_count": null,
      "outputs": [
        {
          "output_type": "execute_result",
          "data": {
            "text/plain": [
              "\" No, there is no mention of Dr. Frankl's sister surviving the concentration camp in the given context.\""
            ],
            "application/vnd.google.colaboratory.intrinsic+json": {
              "type": "string"
            }
          },
          "metadata": {},
          "execution_count": 32
        }
      ]
    },
    {
      "cell_type": "code",
      "source": [
        "ask(\"What did the author tell the elderly general practitioner? \")"
      ],
      "metadata": {
        "colab": {
          "base_uri": "https://localhost:8080/",
          "height": 53
        },
        "id": "Qq2aM1ov3E6h",
        "outputId": "f9f6dae4-399e-4069-9031-860a5af052db"
      },
      "execution_count": null,
      "outputs": [
        {
          "output_type": "execute_result",
          "data": {
            "text/plain": [
              "\" The author told the elderly general practitioner that he had a manuscript of a scientific book in the inner pocket of his coat and that he wanted to keep it at all costs because it contained his life's work.\""
            ],
            "application/vnd.google.colaboratory.intrinsic+json": {
              "type": "string"
            }
          },
          "metadata": {},
          "execution_count": 29
        }
      ]
    },
    {
      "cell_type": "code",
      "source": [
        "ask(\"What is logotherapy?\")"
      ],
      "metadata": {
        "colab": {
          "base_uri": "https://localhost:8080/",
          "height": 70
        },
        "id": "DVBrfEFQ4kjr",
        "outputId": "ac8a2403-134b-4c41-fb0d-ffda2c16ead0"
      },
      "execution_count": null,
      "outputs": [
        {
          "output_type": "execute_result",
          "data": {
            "text/plain": [
              "\" Logotherapy is a psychotherapy theory developed by Viktor Frankl that focuses on the meaning of human existence and man's search for such a meaning. It is based on the idea that the primary motivational force in man is the striving to find a meaning in life. Logotherapy is in contrast to Freudian psychoanalysis, which is centered on the pleasure principle, and Adlerian psychology, which is focused on the will to power.\""
            ],
            "application/vnd.google.colaboratory.intrinsic+json": {
              "type": "string"
            }
          },
          "metadata": {},
          "execution_count": 33
        }
      ]
    },
    {
      "cell_type": "code",
      "source": [
        "ask(\"What is the main premise of the book?\")"
      ],
      "metadata": {
        "colab": {
          "base_uri": "https://localhost:8080/",
          "height": 35
        },
        "id": "daVM_sEV5NUH",
        "outputId": "61f10ea9-bcbb-4a03-bc8f-d50d73daf65d"
      },
      "execution_count": null,
      "outputs": [
        {
          "output_type": "execute_result",
          "data": {
            "text/plain": [
              "' The main premise of the book is that it is possible to \"say yes to life\" in spite of all the tragic aspects of human existence.'"
            ],
            "application/vnd.google.colaboratory.intrinsic+json": {
              "type": "string"
            }
          },
          "metadata": {},
          "execution_count": 34
        }
      ]
    },
    {
      "cell_type": "code",
      "source": [
        "ask(\"What are the main concepts mentioned in this book?\")"
      ],
      "metadata": {
        "colab": {
          "base_uri": "https://localhost:8080/",
          "height": 35
        },
        "id": "uqMIeURI5NB5",
        "outputId": "91fa6d9f-596e-450a-82b0-99ca39b459e4"
      },
      "execution_count": null,
      "outputs": [
        {
          "output_type": "execute_result",
          "data": {
            "text/plain": [
              "' The main concepts mentioned in this book are logotherapy, tragic optimism, and addiction.'"
            ],
            "application/vnd.google.colaboratory.intrinsic+json": {
              "type": "string"
            }
          },
          "metadata": {},
          "execution_count": 37
        }
      ]
    },
    {
      "cell_type": "code",
      "source": [],
      "metadata": {
        "id": "bT_uuZ825Mya"
      },
      "execution_count": null,
      "outputs": []
    },
    {
      "cell_type": "code",
      "source": [],
      "metadata": {
        "id": "hrL9LJnUKosk"
      },
      "execution_count": null,
      "outputs": []
    }
  ]
}