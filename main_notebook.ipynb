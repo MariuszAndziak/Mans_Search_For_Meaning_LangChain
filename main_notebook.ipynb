{
  "cells": [
    {
      "cell_type": "markdown",
      "metadata": {
        "id": "sAzoFrAfQsN-"
      },
      "source": [
        "## Project goal"
      ]
    },
    {
      "cell_type": "markdown",
      "metadata": {
        "id": "kTD_ughYQvcF"
      },
      "source": [
        "Get valuable insights from a predefined text document. The obtained information should include at minimum the basic premise of the text, the outline and main topics mentioned in the text. Additional information may be extracted from the main content.\n",
        "\n",
        "\n",
        "The text analysis will focus on the book: \"[Man's Search for Meaning](https://www.amazon.com/Mans-Search-Meaning-Viktor-Frankl-ebook/dp/B009U9S6FI)\" by [Viktor Frankl](https://en.wikipedia.org/wiki/Viktor_Frankl).\n",
        "\n",
        "This project aims to provide both context knowledge as well as technical knowledge. The meaning of live is one one the fundamental  questions of existance. Finding a solution to such a complex topic isn't trivial and goes beyond the framework of one data project. Discovering meaningful insights however can be informative despite not providing a fix answer to a broad philosophical problem.\n",
        "\n",
        "This project at its basis uses [LangChain](https://github.com/hwchase17/langchain) and OpenAI's GPT3.5. The technical focus of the project is based arround setting un LangChain model calls to obtain meaningfull and reasonable answers for questions ans tasks provided by the user.\n",
        "\n",
        "The project albo uses [Pinecone](https://www.pinecone.io/) - a vector database perfect for text semantic search."
      ]
    },
    {
      "cell_type": "markdown",
      "metadata": {
        "id": "WMdeOV6ufk19"
      },
      "source": [
        "### Libraries instalation"
      ]
    },
    {
      "cell_type": "markdown",
      "metadata": {
        "id": "Tj1u-xaihvja"
      },
      "source": [
        "The notebook uses LangChain, which requires some external libraries to be installed"
      ]
    },
    {
      "cell_type": "code",
      "execution_count": null,
      "metadata": {
        "id": "t2It_vyf-3e-"
      },
      "outputs": [],
      "source": [
        "!pip install langchain\n",
        "!pip install unstructured\n",
        "!pip install unstructured[local-inference]\n",
        "!apt-get install poppler-utils \n",
        "\n",
        "!pip install openai\n",
        "!pip install pinecone-client"
      ]
    },
    {
      "cell_type": "code",
      "execution_count": null,
      "metadata": {
        "id": "FuLr5NrfFc2K"
      },
      "outputs": [],
      "source": [
        "!apt install tesseract-ocr\n",
        "!apt install libtesseract-de\n",
        "\n",
        "!pip install chromadb"
      ]
    },
    {
      "cell_type": "code",
      "execution_count": null,
      "metadata": {
        "id": "VHc3O6ueCksx"
      },
      "outputs": [],
      "source": [
        "!pip install \"detectron2@git+https://github.com/facebookresearch/detectron2.git@v0.6#egg=detectron2\""
      ]
    },
    {
      "cell_type": "markdown",
      "metadata": {
        "id": "4x9KOrMGf7c5"
      },
      "source": [
        "### Libraries initialization"
      ]
    },
    {
      "cell_type": "code",
      "execution_count": 1,
      "metadata": {
        "colab": {
          "base_uri": "https://localhost:8080/"
        },
        "id": "jaG_hEEx-6tp",
        "outputId": "4f89aed7-775b-4878-dbe5-99fad60b6306"
      },
      "outputs": [
        {
          "name": "stderr",
          "output_type": "stream",
          "text": [
            "/usr/local/lib/python3.9/dist-packages/pinecone/index.py:4: TqdmExperimentalWarning: Using `tqdm.autonotebook.tqdm` in notebook mode. Use `tqdm.tqdm` instead to force console mode (e.g. in jupyter console)\n",
            "  from tqdm.autonotebook import tqdm\n"
          ]
        }
      ],
      "source": [
        "import os\n",
        "import json\n",
        "\n",
        "import pinecone\n",
        "\n",
        "import langchain\n",
        "from langchain.document_loaders import UnstructuredPDFLoader\n",
        "from langchain.text_splitter import RecursiveCharacterTextSplitter\n",
        "\n",
        "from langchain.vectorstores import Chroma, Pinecone\n",
        "from langchain.embeddings.openai import OpenAIEmbeddings\n",
        "\n",
        "from langchain.llms import OpenAI\n",
        "from langchain.chains.question_answering import load_qa_chain"
      ]
    },
    {
      "cell_type": "markdown",
      "metadata": {
        "id": "qpCCEIl3hdQZ"
      },
      "source": [
        "### Credentials set-up"
      ]
    },
    {
      "cell_type": "code",
      "execution_count": 2,
      "metadata": {
        "id": "h9RQXb7E_IJ9"
      },
      "outputs": [],
      "source": [
        "def load_api_keys(credentials_file_name: str = 'credentials.json') -> tuple:\n",
        "    '''Load API keys from file\n",
        "\n",
        "    Arguments:\n",
        "        credentials_file_name: name of file containing credentials\n",
        "\n",
        "    Returns:\n",
        "        A tuple containing OpenAI API Key, Pinecone API key and Pinecone API\n",
        "        environment name\n",
        "\n",
        "    '''\n",
        "    \n",
        "    if os.path.exists(credentials_file_name):\n",
        "\n",
        "      # open credentials file \n",
        "        with open(credentials_file_name) as f:\n",
        "            content = json.load(f)\n",
        "\n",
        "            # load api keys\n",
        "            OPENAI_API_KEY = content['OPENAI_API_KEY']\n",
        "            PINECONE_API_KEY = content['PINECONE_API_KEY']\n",
        "            PINECONE_API_ENV = content['PINECONE_API_ENV']\n",
        "    else:\n",
        "        return f'No file {credentials_file_name} or file corrupted'\n",
        "\n",
        "    return OPENAI_API_KEY, PINECONE_API_KEY, PINECONE_API_ENV\n"
      ]
    },
    {
      "cell_type": "code",
      "execution_count": 3,
      "metadata": {
        "id": "gwaR5cVWALl0"
      },
      "outputs": [],
      "source": [
        "OPENAI_API_KEY, PINECONE_API_KEY, PINECONE_API_ENV = load_api_keys('credentials.json')"
      ]
    },
    {
      "cell_type": "code",
      "execution_count": 4,
      "metadata": {
        "id": "762k6Vxfd6Os"
      },
      "outputs": [],
      "source": [
        "os.environ['OPENAI_API_KEY'] = OPENAI_API_KEY"
      ]
    },
    {
      "cell_type": "markdown",
      "metadata": {
        "id": "RNj2XXUWARUb"
      },
      "source": [
        "### Book load"
      ]
    },
    {
      "cell_type": "markdown",
      "metadata": {
        "id": "qhFc3ml8YXHc"
      },
      "source": [
        "The book itself is loaded to a hard drive. Do to its size it can be split into smaller chunks."
      ]
    },
    {
      "cell_type": "code",
      "execution_count": 5,
      "metadata": {
        "id": "54QgnF5nA40D"
      },
      "outputs": [],
      "source": [
        "loader = UnstructuredPDFLoader('/content/input/book.pdf')"
      ]
    },
    {
      "cell_type": "code",
      "execution_count": null,
      "metadata": {
        "id": "NXz2DA8WBAg0"
      },
      "outputs": [],
      "source": [
        "book = loader.load()"
      ]
    },
    {
      "cell_type": "code",
      "execution_count": null,
      "metadata": {
        "colab": {
          "base_uri": "https://localhost:8080/"
        },
        "id": "DEJmJ8FqDogj",
        "outputId": "4a320205-e8d6-4eac-ea72-816b71caa658"
      },
      "outputs": [
        {
          "data": {
            "text/plain": [
              "1"
            ]
          },
          "execution_count": 31,
          "metadata": {},
          "output_type": "execute_result"
        }
      ],
      "source": [
        "len(book)"
      ]
    },
    {
      "cell_type": "code",
      "execution_count": null,
      "metadata": {
        "colab": {
          "base_uri": "https://localhost:8080/",
          "height": 70
        },
        "id": "9b8I6_4LBbQ6",
        "outputId": "38d20ecc-2fce-4fda-c93d-7ba5943873f4"
      },
      "outputs": [
        {
          "data": {
            "application/vnd.google.colaboratory.intrinsic+json": {
              "type": "string"
            },
            "text/plain": [
              "\"be Bee oer) il \\n\\nRevised and Updated  \\n\\nInternationally renowned psychiatrist.Viktor E. Frankl,endured years of unspeakablehorror in Nazi death camps. During,and partly because of his suffering, Dr. Frankldeveloped a revolutionary approach topsychotherapy known as logotherapy. At thecore of his theory is the belief thatman's primary motivational force is hissearch for meaning.MAN'S SEARCH FOR MEANING is morethan the story of Viktor E. Frankl's triumph:it is a remarkable blend of science andhuman\""
            ]
          },
          "execution_count": 75,
          "metadata": {},
          "output_type": "execute_result"
        }
      ],
      "source": [
        "book[0].page_content[:500]"
      ]
    },
    {
      "cell_type": "markdown",
      "metadata": {
        "id": "94Fs1brYh-Ot"
      },
      "source": [
        "### Book split"
      ]
    },
    {
      "cell_type": "code",
      "execution_count": null,
      "metadata": {
        "id": "aAYonKFnCKTr"
      },
      "outputs": [],
      "source": [
        "text_splitter = RecursiveCharacterTextSplitter(chunk_size = 1000, chunk_overlap = 0)\n",
        "texts = text_splitter.split_documents(book)"
      ]
    },
    {
      "cell_type": "code",
      "execution_count": null,
      "metadata": {
        "colab": {
          "base_uri": "https://localhost:8080/"
        },
        "id": "8f3Ohvl0KoY7",
        "outputId": "632d2159-48c7-4f31-88f1-97f4632413f3"
      },
      "outputs": [
        {
          "data": {
            "text/plain": [
              "391"
            ]
          },
          "execution_count": 35,
          "metadata": {},
          "output_type": "execute_result"
        }
      ],
      "source": [
        "len(texts)"
      ]
    },
    {
      "cell_type": "code",
      "execution_count": null,
      "metadata": {
        "colab": {
          "base_uri": "https://localhost:8080/"
        },
        "id": "eHGW9pyoOPYh",
        "outputId": "06b84adb-4f09-41eb-e9a2-bd325998a0ec"
      },
      "outputs": [
        {
          "data": {
            "text/plain": [
              "Document(page_content='(\"Logotherapy in a Nutshell\") boils down, as it were, to the lesson one may distill from the first part, the autobiographical account (\"Experiences in a Concen- tration Camp\"), whereas Part One serves as the exis- tential validation of my theories. Thus, both parts mutually support their credibility. I had none of this in mind when I wrote the book in 1945. And I did so within nine successive days and with the firm determination that the book would be published anonymously. In fact, the first printing of the original German version does not show my name on the cover, though at the last moment, just before the book\\'s initial publication, I did finally give in to my friends who had urged me to let it be published with my name at least on the title page. At first, however, it had been written with the absolute conviction that, as an anonymous opus, it could never earn its author literary fame. I had wanted simply to convey to the reader by way of a concrete example that life holds a', metadata={'source': '/content/input/book.pdf'})"
            ]
          },
          "execution_count": 37,
          "metadata": {},
          "output_type": "execute_result"
        }
      ],
      "source": [
        "texts[12]"
      ]
    },
    {
      "cell_type": "markdown",
      "metadata": {
        "id": "MJymIXe2OYc_"
      },
      "source": [
        "### Embeddings creation"
      ]
    },
    {
      "cell_type": "markdown",
      "metadata": {
        "id": "vpZbzqXhYrGR"
      },
      "source": [
        "OpenAI embeddings will be created for the book content and later upsert to Pinecone database"
      ]
    },
    {
      "cell_type": "code",
      "execution_count": null,
      "metadata": {
        "id": "Yc_JPZ-qOmg4"
      },
      "outputs": [],
      "source": [
        "embeddings = OpenAIEmbeddings(openai_api_key=OPENAI_API_KEY)"
      ]
    },
    {
      "cell_type": "markdown",
      "metadata": {
        "id": "wZpvJfh5iS5W"
      },
      "source": [
        "### Pinecone initialization and embeddings dump"
      ]
    },
    {
      "cell_type": "code",
      "execution_count": null,
      "metadata": {
        "id": "q7uEAtfXUBbP"
      },
      "outputs": [],
      "source": [
        "pinecone.init(\n",
        "    api_key = PINECONE_API_KEY,\n",
        "    environment=PINECONE_API_ENV\n",
        ")\n",
        "\n",
        "index_name = 'langchain'"
      ]
    },
    {
      "cell_type": "code",
      "execution_count": null,
      "metadata": {
        "id": "YUw_aC-BP6RX"
      },
      "outputs": [],
      "source": [
        "docsearch = Pinecone.from_texts([t.page_content for t in texts], embeddings, index_name = index_name)"
      ]
    },
    {
      "cell_type": "markdown",
      "metadata": {
        "id": "VNZTdbOijNlF"
      },
      "source": [
        "### Chain building and ask function creation"
      ]
    },
    {
      "cell_type": "code",
      "execution_count": null,
      "metadata": {
        "id": "5YMVle3dc--e"
      },
      "outputs": [],
      "source": [
        "llm = OpenAI(temperature = 0, openai_api_key=OPENAI_API_KEY)\n",
        "chain = load_qa_chain(llm, chain_type = 'stuff')"
      ]
    },
    {
      "cell_type": "code",
      "execution_count": null,
      "metadata": {
        "id": "m5CCUBsSjboW"
      },
      "outputs": [],
      "source": [
        "def ask(query: str, chain: function = chain) -> str:\n",
        "  docs = docsearch.similarity_search(query, include_metadata = True)\n",
        "  return chain.run(input_documents = docs, queation = query)"
      ]
    },
    {
      "cell_type": "markdown",
      "metadata": {
        "id": "ptXU9puZke1F"
      },
      "source": [
        "### Asking questions"
      ]
    },
    {
      "cell_type": "code",
      "execution_count": null,
      "metadata": {
        "id": "BSPZJzGlQ4hN"
      },
      "outputs": [],
      "source": [
        "ask('What was the life of prisoners of concentration camps like?')"
      ]
    },
    {
      "cell_type": "markdown",
      "metadata": {
        "id": "pR79tbfyd2za"
      },
      "source": [
        "---"
      ]
    },
    {
      "cell_type": "code",
      "execution_count": null,
      "metadata": {
        "id": "5qs8ZhqFeFMC"
      },
      "outputs": [],
      "source": [
        "llm = OpenAI(temperature=0.9)"
      ]
    },
    {
      "cell_type": "code",
      "execution_count": null,
      "metadata": {
        "colab": {
          "base_uri": "https://localhost:8080/",
          "height": 87
        },
        "id": "_Qm2CbWUeIKq",
        "outputId": "fca00480-d16b-4276-adce-3b641cd5fea8"
      },
      "outputs": [
        {
          "data": {
            "application/vnd.google.colaboratory.intrinsic+json": {
              "type": "string"
            },
            "text/plain": [
              "\"\\n\\nViktor Frankl believed that the meaning of life is found in every individual's unique search for meaning, which is largely determined by the person's attitude and individual interpretations of a set of circumstances. He argued that humans have a natural instinct to search for meaning and purpose, and that this was the primary motivation in life. He believed that in order to find meaning, we must invest our time and energy in something greater than ourselves, such as a meaningful job, a relationship with God, or a meaningful cause. He also believed that meaning can be found even in difficult circumstances and that each person has the potential to use the worst circumstances to fashion the best possible outcome.\""
            ]
          },
          "execution_count": 73,
          "metadata": {},
          "output_type": "execute_result"
        }
      ],
      "source": [
        "llm('What is the meaning of life according to Viktor Frankl?')"
      ]
    },
    {
      "cell_type": "code",
      "execution_count": null,
      "metadata": {
        "id": "fhYeZNOWeWL7"
      },
      "outputs": [],
      "source": []
    }
  ],
  "metadata": {
    "colab": {
      "provenance": []
    },
    "kernelspec": {
      "display_name": "Python 3",
      "name": "python3"
    },
    "language_info": {
      "name": "python",
      "version": "3.7.5"
    }
  },
  "nbformat": 4,
  "nbformat_minor": 0
}
