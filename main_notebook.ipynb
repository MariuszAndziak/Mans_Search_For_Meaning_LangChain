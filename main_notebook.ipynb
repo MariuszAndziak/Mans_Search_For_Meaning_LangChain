{
  "cells": [
    {
      "cell_type": "markdown",
      "metadata": {
        "id": "sAzoFrAfQsN-"
      },
      "source": [
        "## Project goal"
      ]
    },
    {
      "cell_type": "markdown",
      "metadata": {
        "id": "kTD_ughYQvcF"
      },
      "source": [
        "Get valuable insights from a predefined text document. The obtained information should include at minimum the basic premise of the text, the outline and main topics mentioned in the text. Additional information may be extracted from the main content.\n",
        "\n",
        "\n",
        "The text analysis will focus on the book: \"[Man's Search for Meaning](https://www.amazon.com/Mans-Search-Meaning-Viktor-Frankl-ebook/dp/B009U9S6FI)\" by [Viktor Frankl](https://en.wikipedia.org/wiki/Viktor_Frankl).\n",
        "\n",
        "This project aims to provide both context knowledge as well as technical knowledge. The meaning of live is one one the fundamental  questions of existance. Finding a solution to such a complex topic isn't trivial and goes beyond the framework of one data project. Discovering meaningful insights however can be informative despite not providing a fix answer to a broad philosophical problem.\n",
        "\n",
        "This project at it's basis uses [LangChain](https://github.com/hwchase17/langchain) and OpenAI's GPT3.5. The technical focus of the project is based arround setting up LangChain model calls to obtain meaningfull and reasonable answers for questions and tasks provided by the user. \n",
        "\n",
        "Certain book passages were mentioned in comparison to the model responses.\n",
        "\n",
        "The project uses [Pinecone](https://www.pinecone.io/) - a vector database perfect for text semantic search."
      ]
    },
    {
      "cell_type": "markdown",
      "metadata": {
        "id": "WMdeOV6ufk19"
      },
      "source": [
        "### Libraries instalation"
      ]
    },
    {
      "cell_type": "markdown",
      "metadata": {
        "id": "Tj1u-xaihvja"
      },
      "source": [
        "The notebook uses LangChain, which requires some external libraries to be installed."
      ]
    },
    {
      "cell_type": "code",
      "execution_count": null,
      "metadata": {
        "id": "t2It_vyf-3e-"
      },
      "outputs": [],
      "source": [
        "!pip install langchain\n",
        "!pip install unstructured\n",
        "!pip install unstructured[local-inference]\n",
        "!apt-get install poppler-utils \n",
        "\n",
        "!pip install openai\n",
        "!pip install pinecone-client\n",
        "!pip install tiktoken"
      ]
    },
    {
      "cell_type": "code",
      "execution_count": null,
      "metadata": {
        "id": "FuLr5NrfFc2K"
      },
      "outputs": [],
      "source": [
        "!apt install tesseract-ocr\n",
        "!apt install libtesseract-de\n",
        "\n",
        "!pip install chromadb"
      ]
    },
    {
      "cell_type": "code",
      "execution_count": null,
      "metadata": {
        "id": "VHc3O6ueCksx"
      },
      "outputs": [],
      "source": [
        "!pip install \"detectron2@git+https://github.com/facebookresearch/detectron2.git@v0.6#egg=detectron2\""
      ]
    },
    {
      "cell_type": "markdown",
      "metadata": {
        "id": "4x9KOrMGf7c5"
      },
      "source": [
        "### Libraries initialization"
      ]
    },
    {
      "cell_type": "code",
      "execution_count": 3,
      "metadata": {
        "colab": {
          "base_uri": "https://localhost:8080/"
        },
        "id": "jaG_hEEx-6tp",
        "outputId": "9d6d296a-c56f-4831-e1f8-362244764cc6"
      },
      "outputs": [
        {
          "name": "stderr",
          "output_type": "stream",
          "text": [
            "/usr/local/lib/python3.9/dist-packages/pinecone/index.py:4: TqdmExperimentalWarning: Using `tqdm.autonotebook.tqdm` in notebook mode. Use `tqdm.tqdm` instead to force console mode (e.g. in jupyter console)\n",
            "  from tqdm.autonotebook import tqdm\n"
          ]
        }
      ],
      "source": [
        "import os\n",
        "import json\n",
        "\n",
        "import pinecone\n",
        "\n",
        "import langchain\n",
        "from langchain.document_loaders import UnstructuredPDFLoader\n",
        "from langchain.text_splitter import RecursiveCharacterTextSplitter\n",
        "\n",
        "from langchain.vectorstores import Chroma, Pinecone\n",
        "from langchain.embeddings.openai import OpenAIEmbeddings\n",
        "\n",
        "from langchain.llms import OpenAI\n",
        "from langchain.chains.question_answering import load_qa_chain"
      ]
    },
    {
      "cell_type": "markdown",
      "metadata": {
        "id": "qpCCEIl3hdQZ"
      },
      "source": [
        "### Credentials set-up"
      ]
    },
    {
      "cell_type": "code",
      "execution_count": 4,
      "metadata": {
        "id": "h9RQXb7E_IJ9"
      },
      "outputs": [],
      "source": [
        "def load_api_keys(credentials_file_name: str = 'credentials.json') -> tuple:\n",
        "    '''Load API keys from file\n",
        "\n",
        "    Arguments:\n",
        "        credentials_file_name: name of file containing credentials\n",
        "\n",
        "    Returns:\n",
        "        A tuple containing OpenAI API Key, Pinecone API key and Pinecone API\n",
        "        environment name\n",
        "\n",
        "    '''\n",
        "    \n",
        "    if os.path.exists(credentials_file_name):\n",
        "\n",
        "      # open credentials file \n",
        "        with open(credentials_file_name) as f:\n",
        "            content = json.load(f)\n",
        "\n",
        "            # load api keys\n",
        "            OPENAI_API_KEY = content['OPENAI_API_KEY']\n",
        "            PINECONE_API_KEY = content['PINECONE_API_KEY']\n",
        "            PINECONE_API_ENV = content['PINECONE_API_ENV']\n",
        "    else:\n",
        "        return f'No file {credentials_file_name} or file corrupted'\n",
        "\n",
        "    return OPENAI_API_KEY, PINECONE_API_KEY, PINECONE_API_ENV\n"
      ]
    },
    {
      "cell_type": "code",
      "execution_count": 5,
      "metadata": {
        "id": "gwaR5cVWALl0"
      },
      "outputs": [],
      "source": [
        "# load the API keys from credential file and setup OPENAI API KEY as an environmental\n",
        "# variable\n",
        "OPENAI_API_KEY, PINECONE_API_KEY, PINECONE_API_ENV = load_api_keys('credentials.json')\n",
        "os.environ['OPENAI_API_KEY'] = OPENAI_API_KEY"
      ]
    },
    {
      "cell_type": "code",
      "execution_count": null,
      "metadata": {
        "id": "762k6Vxfd6Os"
      },
      "outputs": [],
      "source": []
    },
    {
      "cell_type": "markdown",
      "metadata": {
        "id": "RNj2XXUWARUb"
      },
      "source": [
        "### Book load"
      ]
    },
    {
      "cell_type": "markdown",
      "metadata": {
        "id": "qhFc3ml8YXHc"
      },
      "source": [
        "The book itself is loaded to a hard drive. Do to its size it has to be split into smaller chunks."
      ]
    },
    {
      "cell_type": "code",
      "execution_count": 6,
      "metadata": {
        "colab": {
          "base_uri": "https://localhost:8080/",
          "height": 168,
          "referenced_widgets": [
            "288bce9bef60420da3044cdfec7e88ee",
            "2337aa41b6ba445d9ab607220b229b1e",
            "7279dce3ce6645b2b3875039fb94bdd5",
            "861a3dcc9dff4e31b809927a1440f408",
            "e2fcbb0f6768457d8867e3eba23d3d8b",
            "0b6bd6ed55824609a799fa40482dda7f",
            "2e9e69835253411787b940933ad0c547",
            "645a70601bce40ebb09e8def70c8bb8d",
            "5a805182ca8e41acb3198e27df751960",
            "93273bccc1664b32bb97fc45e628d7e2",
            "e3fae821cafe4a80980c09a0d8e6aee7",
            "f3cb9be39d3d430d93dba447d7b0559e",
            "8cda6600a2e74c29ad9bcd3b420435f5",
            "770377dcb4124213b12c1bc8359f2a61",
            "7b9d4f0356fd41aea5bc181f75f41250",
            "6444c163fee34079ab28736094ad783f",
            "9f9af3f44ca543869b3507f3e506ff58",
            "648ac1a2d39a4e4280d01c072b07d6ce",
            "8a67358e9a664e97b2f618ebbf8ddabf",
            "955b7fedafff46fe9c2f1b920a47e1d3",
            "845752177d1c4aca880dd20e5a0ef794",
            "37db45d9350a4fa8b6d9f63ed1dcd842"
          ]
        },
        "id": "NXz2DA8WBAg0",
        "outputId": "823e886c-287e-4de9-d8af-719a8650a47e"
      },
      "outputs": [
        {
          "name": "stderr",
          "output_type": "stream",
          "text": [
            "[nltk_data] Downloading package punkt to /root/nltk_data...\n",
            "[nltk_data]   Unzipping tokenizers/punkt.zip.\n",
            "[nltk_data] Downloading package averaged_perceptron_tagger to\n",
            "[nltk_data]     /root/nltk_data...\n",
            "[nltk_data]   Unzipping taggers/averaged_perceptron_tagger.zip.\n"
          ]
        },
        {
          "data": {
            "application/vnd.jupyter.widget-view+json": {
              "model_id": "288bce9bef60420da3044cdfec7e88ee",
              "version_major": 2,
              "version_minor": 0
            },
            "text/plain": [
              "Downloading model_final.pth:   0%|          | 0.00/330M [00:00<?, ?B/s]"
            ]
          },
          "metadata": {},
          "output_type": "display_data"
        },
        {
          "data": {
            "application/vnd.jupyter.widget-view+json": {
              "model_id": "f3cb9be39d3d430d93dba447d7b0559e",
              "version_major": 2,
              "version_minor": 0
            },
            "text/plain": [
              "Downloading (…)50_FPN_3x/config.yml:   0%|          | 0.00/5.37k [00:00<?, ?B/s]"
            ]
          },
          "metadata": {},
          "output_type": "display_data"
        }
      ],
      "source": [
        "loader = UnstructuredPDFLoader('/content/input/book.pdf')\n",
        "book = loader.load()"
      ]
    },
    {
      "cell_type": "code",
      "execution_count": 7,
      "metadata": {
        "colab": {
          "base_uri": "https://localhost:8080/"
        },
        "id": "DEJmJ8FqDogj",
        "outputId": "61ce7fa2-d09f-4f09-b0b0-19cac78266be"
      },
      "outputs": [
        {
          "data": {
            "text/plain": [
              "1"
            ]
          },
          "execution_count": 7,
          "metadata": {},
          "output_type": "execute_result"
        }
      ],
      "source": [
        "len(book)"
      ]
    },
    {
      "cell_type": "code",
      "execution_count": 8,
      "metadata": {
        "colab": {
          "base_uri": "https://localhost:8080/",
          "height": 70
        },
        "id": "9b8I6_4LBbQ6",
        "outputId": "22c41bcf-26a2-42e3-8c88-a78a6f33f42e"
      },
      "outputs": [
        {
          "data": {
            "application/vnd.google.colaboratory.intrinsic+json": {
              "type": "string"
            },
            "text/plain": [
              "\"be Bee oer) il \\n\\nRevised and Updated  \\n\\nInternationally renowned psychiatrist.Viktor E. Frankl,endured years of unspeakablehorror in Nazi death camps. During,and partly because of his suffering, Dr. Frankldeveloped a revolutionary approach topsychotherapy known as logotherapy. At thecore of his theory is the belief thatman's primary motivational force is hissearch for meaning.MAN'S SEARCH FOR MEANING is morethan the story of Viktor E. Frankl's triumph:it is a remarkable blend of science andhuman\""
            ]
          },
          "execution_count": 8,
          "metadata": {},
          "output_type": "execute_result"
        }
      ],
      "source": [
        "# get the first 500 words from the book\n",
        "book[0].page_content[:500]"
      ]
    },
    {
      "cell_type": "code",
      "execution_count": null,
      "metadata": {
        "id": "S5__37XGt8AC"
      },
      "outputs": [],
      "source": []
    },
    {
      "cell_type": "markdown",
      "metadata": {
        "id": "94Fs1brYh-Ot"
      },
      "source": [
        "### Book split"
      ]
    },
    {
      "cell_type": "code",
      "execution_count": null,
      "metadata": {
        "id": "aAYonKFnCKTr"
      },
      "outputs": [],
      "source": [
        "# The split is handled by LangChain build-in function with 1000 as the chunk size\n",
        "# and with no chunk overlap\n",
        "text_splitter = RecursiveCharacterTextSplitter(chunk_size = 1000, chunk_overlap = 0)\n",
        "texts = text_splitter.split_documents(book)"
      ]
    },
    {
      "cell_type": "code",
      "execution_count": null,
      "metadata": {
        "colab": {
          "base_uri": "https://localhost:8080/"
        },
        "id": "8f3Ohvl0KoY7",
        "outputId": "a0976836-e3a4-4521-98ad-d21711f0f098"
      },
      "outputs": [
        {
          "data": {
            "text/plain": [
              "391"
            ]
          },
          "execution_count": 12,
          "metadata": {},
          "output_type": "execute_result"
        }
      ],
      "source": [
        "# the book is split into 391 pieces\n",
        "len(texts)"
      ]
    },
    {
      "cell_type": "code",
      "execution_count": null,
      "metadata": {
        "colab": {
          "base_uri": "https://localhost:8080/"
        },
        "id": "eHGW9pyoOPYh",
        "outputId": "06b84adb-4f09-41eb-e9a2-bd325998a0ec"
      },
      "outputs": [
        {
          "data": {
            "text/plain": [
              "Document(page_content='(\"Logotherapy in a Nutshell\") boils down, as it were, to the lesson one may distill from the first part, the autobiographical account (\"Experiences in a Concen- tration Camp\"), whereas Part One serves as the exis- tential validation of my theories. Thus, both parts mutually support their credibility. I had none of this in mind when I wrote the book in 1945. And I did so within nine successive days and with the firm determination that the book would be published anonymously. In fact, the first printing of the original German version does not show my name on the cover, though at the last moment, just before the book\\'s initial publication, I did finally give in to my friends who had urged me to let it be published with my name at least on the title page. At first, however, it had been written with the absolute conviction that, as an anonymous opus, it could never earn its author literary fame. I had wanted simply to convey to the reader by way of a concrete example that life holds a', metadata={'source': '/content/input/book.pdf'})"
            ]
          },
          "execution_count": 37,
          "metadata": {},
          "output_type": "execute_result"
        }
      ],
      "source": [
        "# preview of a random piece\n",
        "texts[12]"
      ]
    },
    {
      "cell_type": "code",
      "execution_count": null,
      "metadata": {
        "id": "tyOVlPect9WO"
      },
      "outputs": [],
      "source": []
    },
    {
      "cell_type": "markdown",
      "metadata": {
        "id": "MJymIXe2OYc_"
      },
      "source": [
        "### Embeddings creation"
      ]
    },
    {
      "cell_type": "markdown",
      "metadata": {
        "id": "vpZbzqXhYrGR"
      },
      "source": [
        "OpenAI embeddings will be created for the book content and later upsert to Pinecone database"
      ]
    },
    {
      "cell_type": "code",
      "execution_count": 9,
      "metadata": {
        "id": "Yc_JPZ-qOmg4"
      },
      "outputs": [],
      "source": [
        "embeddings = OpenAIEmbeddings(openai_api_key=OPENAI_API_KEY)"
      ]
    },
    {
      "cell_type": "code",
      "execution_count": null,
      "metadata": {
        "id": "-KEkpZk4t-4a"
      },
      "outputs": [],
      "source": []
    },
    {
      "cell_type": "markdown",
      "metadata": {
        "id": "wZpvJfh5iS5W"
      },
      "source": [
        "### Pinecone initialization and embeddings dump"
      ]
    },
    {
      "cell_type": "markdown",
      "metadata": {
        "id": "pJB6QgGR6orQ"
      },
      "source": [
        "The database uses GCP environment containing 391 vectors (each for one text) and 1536 dimentions optimized for cosine similarity search"
      ]
    },
    {
      "cell_type": "code",
      "execution_count": null,
      "metadata": {
        "id": "q7uEAtfXUBbP"
      },
      "outputs": [],
      "source": [
        "pinecone.init(\n",
        "    api_key = PINECONE_API_KEY,\n",
        "    environment=PINECONE_API_ENV\n",
        ")\n",
        "\n",
        "index_name = 'langchain'\n",
        "\n",
        "docsearch = Pinecone.from_texts([t.page_content for t in texts], embeddings, index_name = index_name)"
      ]
    },
    {
      "cell_type": "code",
      "execution_count": null,
      "metadata": {
        "id": "YUw_aC-BP6RX"
      },
      "outputs": [],
      "source": []
    },
    {
      "cell_type": "markdown",
      "metadata": {
        "id": "VNZTdbOijNlF"
      },
      "source": [
        "### Chain building and  creation of the 'ask' function"
      ]
    },
    {
      "cell_type": "code",
      "execution_count": 12,
      "metadata": {
        "id": "m5CCUBsSjboW"
      },
      "outputs": [],
      "source": [
        "def ask(query: str, chain_type : str = 'stuff') -> str:\n",
        "  \"\"\"Create a text embedding from a query, pass it to docsearch similarity \n",
        "     with respect to the other documents, return most relevant documents to a\n",
        "     given query and use them as input for a language chain.\n",
        "\n",
        "  Args:\n",
        "      query (str): initial query provided by the user\n",
        "      chain_type (str): type of chain, other chain types:\n",
        "        stuff - use all the text from a given prompt\n",
        "        \n",
        "        map_reduce - split the prompt into pieces, feed all the pieces with the \n",
        "        query and make one final answer based on the results\n",
        "        \n",
        "        refine - split the text into batches, feed the first batch, get the output\n",
        "        and feed the output to the second batch...\n",
        "        \n",
        "        map-rerank - split the text into batched, get the answer from each one and\n",
        "        decide which one answered the question the best \n",
        "\n",
        "  Returns:\n",
        "      str: Answer to a question generated by the language chain.\n",
        "  \"\"\"\n",
        "\n",
        "  # initiate a Large Language Model\n",
        "  llm = OpenAI(temperature = 0, openai_api_key=OPENAI_API_KEY)\n",
        "  # build a chain of type provided by the user\n",
        "  chain = load_qa_chain(llm, chain_type = chain_type)\n",
        "  docs = docsearch.similarity_search(query, include_metadata = True)\n",
        "  \n",
        "  return chain.run(input_documents = docs, question = query)"
      ]
    },
    {
      "cell_type": "code",
      "execution_count": null,
      "metadata": {
        "id": "Vwgukzh_uAh2"
      },
      "outputs": [],
      "source": []
    },
    {
      "cell_type": "markdown",
      "metadata": {
        "id": "tEX6BqmJVKD1"
      },
      "source": [
        "## Architecture 1"
      ]
    },
    {
      "cell_type": "markdown",
      "metadata": {
        "id": "SuasSdDGVQXF"
      },
      "source": [
        "pod Type: P1 - faster quaries\n",
        "\n",
        "chunk_size = 1000\n",
        "\n",
        "chunk_overlap = 0\n",
        "\n",
        "no of vectors: 391\n",
        "\n",
        "no of dimenstions 1536\n",
        "\n",
        "metric type: cosine\n",
        "\n",
        "chain_type: stuff"
      ]
    },
    {
      "cell_type": "markdown",
      "metadata": {
        "id": "ptXU9puZke1F"
      },
      "source": [
        "### Asking questions"
      ]
    },
    {
      "cell_type": "code",
      "execution_count": null,
      "metadata": {
        "colab": {
          "base_uri": "https://localhost:8080/",
          "height": 35
        },
        "id": "daVM_sEV5NUH",
        "outputId": "61f10ea9-bcbb-4a03-bc8f-d50d73daf65d"
      },
      "outputs": [
        {
          "data": {
            "application/vnd.google.colaboratory.intrinsic+json": {
              "type": "string"
            },
            "text/plain": [
              "' The main premise of the book is that it is possible to \"say yes to life\" in spite of all the tragic aspects of human existence.'"
            ]
          },
          "execution_count": 34,
          "metadata": {},
          "output_type": "execute_result"
        }
      ],
      "source": [
        "ask(\"What is the main premise of the book?\")"
      ]
    },
    {
      "cell_type": "code",
      "execution_count": null,
      "metadata": {
        "colab": {
          "base_uri": "https://localhost:8080/",
          "height": 35
        },
        "id": "uqMIeURI5NB5",
        "outputId": "91fa6d9f-596e-450a-82b0-99ca39b459e4"
      },
      "outputs": [
        {
          "data": {
            "application/vnd.google.colaboratory.intrinsic+json": {
              "type": "string"
            },
            "text/plain": [
              "' The main concepts mentioned in this book are logotherapy, tragic optimism, and addiction.'"
            ]
          },
          "execution_count": 37,
          "metadata": {},
          "output_type": "execute_result"
        }
      ],
      "source": [
        "ask(\"What are the main concepts mentioned in this book?\")"
      ]
    },
    {
      "cell_type": "code",
      "execution_count": null,
      "metadata": {
        "colab": {
          "base_uri": "https://localhost:8080/",
          "height": 53
        },
        "id": "khOw7M8f0lJ1",
        "outputId": "2fc2fcd3-7644-410a-d18b-caec4602af71"
      },
      "outputs": [
        {
          "data": {
            "application/vnd.google.colaboratory.intrinsic+json": {
              "type": "string"
            },
            "text/plain": [
              "' Capos were prisoners in concentration camps who were chosen by the guards to be in charge of other prisoners. They were often harder on the prisoners than the guards and had more privileges than the other prisoners.'"
            ]
          },
          "execution_count": 25,
          "metadata": {},
          "output_type": "execute_result"
        }
      ],
      "source": [
        "ask(\"Who were Capos?\")"
      ]
    },
    {
      "cell_type": "code",
      "execution_count": null,
      "metadata": {
        "colab": {
          "base_uri": "https://localhost:8080/",
          "height": 70
        },
        "id": "DVBrfEFQ4kjr",
        "outputId": "ac8a2403-134b-4c41-fb0d-ffda2c16ead0"
      },
      "outputs": [
        {
          "data": {
            "application/vnd.google.colaboratory.intrinsic+json": {
              "type": "string"
            },
            "text/plain": [
              "\" Logotherapy is a psychotherapy theory developed by Viktor Frankl that focuses on the meaning of human existence and man's search for such a meaning. It is based on the idea that the primary motivational force in man is the striving to find a meaning in life. Logotherapy is in contrast to Freudian psychoanalysis, which is centered on the pleasure principle, and Adlerian psychology, which is focused on the will to power.\""
            ]
          },
          "execution_count": 33,
          "metadata": {},
          "output_type": "execute_result"
        }
      ],
      "source": [
        "ask(\"What is logotherapy?\")"
      ]
    },
    {
      "cell_type": "code",
      "execution_count": null,
      "metadata": {
        "colab": {
          "base_uri": "https://localhost:8080/",
          "height": 35
        },
        "id": "BSPZJzGlQ4hN",
        "outputId": "aea7ec33-1378-4acb-a5e4-8030112bd58b"
      },
      "outputs": [
        {
          "data": {
            "application/vnd.google.colaboratory.intrinsic+json": {
              "type": "string"
            },
            "text/plain": [
              "' The thought that there was a meaning in his life and that whatever he had gone through could still be an asset to him in the future.'"
            ]
          },
          "execution_count": 24,
          "metadata": {},
          "output_type": "execute_result"
        }
      ],
      "source": [
        "ask(\"What thought kept the author alive in the concentration camp?\")"
      ]
    },
    {
      "cell_type": "code",
      "execution_count": null,
      "metadata": {
        "colab": {
          "base_uri": "https://localhost:8080/",
          "height": 35
        },
        "id": "2eh9L3Qs1sUP",
        "outputId": "6ea23bc5-2703-429d-d6f5-48183811ada1"
      },
      "outputs": [
        {
          "data": {
            "application/vnd.google.colaboratory.intrinsic+json": {
              "type": "string"
            },
            "text/plain": [
              "' Yes, this was a good survival strategy because it allowed people to cope with difficult situations and find meaning in suffering.'"
            ]
          },
          "execution_count": 26,
          "metadata": {},
          "output_type": "execute_result"
        }
      ],
      "source": [
        "ask(\"When someone developed the trait of seeing bad things in a good light, was this a good survival strategy?\")"
      ]
    },
    {
      "cell_type": "code",
      "execution_count": null,
      "metadata": {
        "colab": {
          "base_uri": "https://localhost:8080/",
          "height": 35
        },
        "id": "45eGWiYK2mkO",
        "outputId": "1355570b-17c9-4df5-f79a-fd5968cd18f7"
      },
      "outputs": [
        {
          "data": {
            "application/vnd.google.colaboratory.intrinsic+json": {
              "type": "string"
            },
            "text/plain": [
              "\" No, there is no mention of Dr. Frankl's sister surviving the concentration camp in the given context.\""
            ]
          },
          "execution_count": 32,
          "metadata": {},
          "output_type": "execute_result"
        }
      ],
      "source": [
        "ask(\"Did Dr. Frankl sister survive the concentration camp?\")"
      ]
    },
    {
      "cell_type": "code",
      "execution_count": null,
      "metadata": {
        "colab": {
          "base_uri": "https://localhost:8080/",
          "height": 53
        },
        "id": "Qq2aM1ov3E6h",
        "outputId": "f9f6dae4-399e-4069-9031-860a5af052db"
      },
      "outputs": [
        {
          "data": {
            "application/vnd.google.colaboratory.intrinsic+json": {
              "type": "string"
            },
            "text/plain": [
              "\" The author told the elderly general practitioner that he had a manuscript of a scientific book in the inner pocket of his coat and that he wanted to keep it at all costs because it contained his life's work.\""
            ]
          },
          "execution_count": 29,
          "metadata": {},
          "output_type": "execute_result"
        }
      ],
      "source": [
        "ask(\"What did the author tell the elderly general practitioner? \")"
      ]
    },
    {
      "cell_type": "code",
      "execution_count": null,
      "metadata": {
        "id": "bT_uuZ825Mya"
      },
      "outputs": [],
      "source": []
    },
    {
      "cell_type": "markdown",
      "metadata": {
        "id": "hrL9LJnUKosk"
      },
      "source": [
        "### Critique"
      ]
    },
    {
      "cell_type": "markdown",
      "metadata": {
        "id": "bVreqqzx0aKH"
      },
      "source": [
        "What was the main premise of the book?\n",
        "`The main premise of the book is that it is possible to \"say yes to life\" in spite of all the tragic aspects of human existence.`"
      ]
    },
    {
      "cell_type": "code",
      "execution_count": null,
      "metadata": {
        "id": "YSzQvQuq0aKH"
      },
      "outputs": [],
      "source": [
        "# The model summarized the premise accordingly. The explanation in short and simple."
      ]
    },
    {
      "cell_type": "markdown",
      "metadata": {
        "id": "qE3DCd8f0aKH"
      },
      "source": [
        "---"
      ]
    },
    {
      "cell_type": "markdown",
      "metadata": {
        "id": "Y9aUSwTt0aKH"
      },
      "source": [
        "What are the main concepts mentioned in this book? ` The main concepts mentioned in this book are logotherapy, tragic optimism, and addiction.`"
      ]
    },
    {
      "cell_type": "code",
      "execution_count": 29,
      "metadata": {
        "id": "tyH8-rM-4-mJ"
      },
      "outputs": [],
      "source": [
        "# \"Logotherapy\" and \"tragic optimism\" are phrases that accure frequently in the book but \"addition\" \n",
        "# is one of three facets of neurotic syndrome (the other two being depression and aggresion). \n",
        "# Addition is not the main focus of this book."
      ]
    },
    {
      "cell_type": "markdown",
      "metadata": {
        "id": "zaWFJXnQ5F6x"
      },
      "source": [
        "---"
      ]
    },
    {
      "cell_type": "markdown",
      "metadata": {
        "id": "SGW20qsFYVm-"
      },
      "source": [
        "Who were Capos? ` Capos were prisoners in concentration camps who were chosen by the guards to be in charge of other prisoners. They were often harder on the prisoners than the guards and had more privileges than the other prisoners.`"
      ]
    },
    {
      "cell_type": "code",
      "execution_count": 24,
      "metadata": {
        "id": "H_w-woguYfaR"
      },
      "outputs": [],
      "source": [
        "# A precise short and accurate answer."
      ]
    },
    {
      "cell_type": "markdown",
      "metadata": {
        "id": "SNoZUhzNYnSp"
      },
      "source": [
        "---"
      ]
    },
    {
      "cell_type": "markdown",
      "metadata": {
        "id": "HhDMsFltYolM"
      },
      "source": [
        "What is logotherapy? ` Logotherapy is a psychotherapy theory developed by Viktor Frankl that focuses on the meaning of human existence and man's search for such a meaning. It is based on the idea that the primary motivational force in man is the striving to find a meaning in life. Logotherapy is in contrast to Freudian psychoanalysis, which is centered on the pleasure principle, and Adlerian psychology, which is focused on the will to power.`"
      ]
    },
    {
      "cell_type": "code",
      "execution_count": 27,
      "metadata": {
        "id": "InS3trv2Ywup"
      },
      "outputs": [],
      "source": [
        "# A good answer concluded from this text: \"According to logotherapy,\n",
        "# this striving to find a meaning in one's life is the\n",
        "# primary motivational force in man. That is why I\n",
        "# speak of a will to meaning in contrast to the pleasure\n",
        "# principle (or, as we could also term it, the will to\n",
        "# pleasure) on which Freudian psychoanalysis is centered, as well as in contrast to the will to power on\n",
        "# which Adlerian psychology, using the term \"striving\n",
        "# for superiority,\" is focused.\""
      ]
    },
    {
      "cell_type": "markdown",
      "metadata": {
        "id": "_eYvLYmtbDQK"
      },
      "source": [
        "---"
      ]
    },
    {
      "cell_type": "markdown",
      "metadata": {},
      "source": [
        "What thought kept the author alive in the concentration camp? `The thought that there was a meaning in his life and that whatever he had gone through could still be an asset to him in the future.'\n",
        "`"
      ]
    },
    {
      "cell_type": "code",
      "execution_count": 1,
      "metadata": {},
      "outputs": [],
      "source": [
        "# A correct answer"
      ]
    },
    {
      "cell_type": "markdown",
      "metadata": {},
      "source": [
        "---"
      ]
    },
    {
      "attachments": {},
      "cell_type": "markdown",
      "metadata": {},
      "source": [
        "When someone developed the trait of seeing bad things in a good light, was this a good survival strategy? `Yes, this was a good survival strategy because it allowed people to cope with difficult situations and find meaning in suffering`"
      ]
    },
    {
      "cell_type": "code",
      "execution_count": null,
      "metadata": {},
      "outputs": [],
      "source": [
        "# Correct"
      ]
    },
    {
      "cell_type": "markdown",
      "metadata": {},
      "source": [
        "---"
      ]
    },
    {
      "attachments": {},
      "cell_type": "markdown",
      "metadata": {},
      "source": [
        "Did Dr. Frankl sister survive the concentration camp? `No, there is no mention of Dr. Frankl's sister surviving the concentration camp in the given context.`"
      ]
    },
    {
      "cell_type": "code",
      "execution_count": 3,
      "metadata": {},
      "outputs": [],
      "source": [
        "# This isn't true beacuse the is a mention of Frankl's sister in the text:\n",
        "# \"His father, mother, brother, and his wife died in camps or were sent to the gas ovens,\n",
        "# so that, excepting for his sister, his entire family perished in these camps.\""
      ]
    },
    {
      "cell_type": "markdown",
      "metadata": {},
      "source": [
        "---"
      ]
    },
    {
      "cell_type": "markdown",
      "metadata": {},
      "source": [
        "What did the author tell the elderly general practitioner? `The author told the elderly general practitioner that he had a manuscript of a scientific book in the inner pocket of his coat and that he wanted to keep it at all costs because it contained his life's work.`\n",
        "`"
      ]
    },
    {
      "cell_type": "code",
      "execution_count": 5,
      "metadata": {},
      "outputs": [],
      "source": [
        "# This isn't true. The correct answer is:\"What would have happened, Doctor, if \n",
        "# you had died first, and your wife would have had to survive you?\""
      ]
    },
    {
      "cell_type": "code",
      "execution_count": null,
      "metadata": {},
      "outputs": [],
      "source": []
    },
    {
      "cell_type": "markdown",
      "metadata": {
        "id": "m_HBetRiVDUR"
      },
      "source": [
        "## Architecture 2"
      ]
    },
    {
      "cell_type": "markdown",
      "metadata": {
        "id": "ySwQwEtIV2y5"
      },
      "source": [
        "od Type: P2 - lowest latency and highest throughput\n",
        "\n",
        "chunk_size = 1200\n",
        "\n",
        "chunk_overlap = 80\n",
        "\n",
        "no of vectors: 332\n",
        "\n",
        "no of dimenstions 1536\n",
        "\n",
        "metric type: cosine\n",
        "\n",
        "chain_type: stuff"
      ]
    },
    {
      "cell_type": "code",
      "execution_count": 10,
      "metadata": {
        "colab": {
          "base_uri": "https://localhost:8080/"
        },
        "id": "RA2qFWkV5Hfp",
        "outputId": "6325814f-ea96-4347-f3cc-7b3e0b8ba675"
      },
      "outputs": [
        {
          "name": "stdout",
          "output_type": "stream",
          "text": [
            "332\n"
          ]
        }
      ],
      "source": [
        "text_splitter = RecursiveCharacterTextSplitter(chunk_size = 1200, chunk_overlap = 80)\n",
        "texts = text_splitter.split_documents(book)\n",
        "\n",
        "print(len(texts))\n",
        "\n",
        "pinecone.init(\n",
        "    api_key = PINECONE_API_KEY,\n",
        "    environment=PINECONE_API_ENV\n",
        ")\n",
        "\n",
        "index_name = 'langchain2'\n",
        "\n",
        "docsearch = Pinecone.from_texts([t.page_content for t in texts], embeddings, index_name = index_name)"
      ]
    },
    {
      "cell_type": "markdown",
      "metadata": {
        "id": "SS8KdscPV83V"
      },
      "source": [
        "### Asking questions"
      ]
    },
    {
      "cell_type": "code",
      "execution_count": 13,
      "metadata": {
        "colab": {
          "base_uri": "https://localhost:8080/",
          "height": 53
        },
        "id": "spz3lYE_DoeF",
        "outputId": "0b9f8464-a8a2-41a0-aff9-43325844a2b5"
      },
      "outputs": [
        {
          "data": {
            "application/vnd.google.colaboratory.intrinsic+json": {
              "type": "string"
            },
            "text/plain": [
              "' The main premise of the book is that hundreds of thousands of people are reaching out for a book that promises to deal with the question of a meaning to life, and that the book provides a compelling introduction to the most significant psychological movement of our day.'"
            ]
          },
          "execution_count": 13,
          "metadata": {},
          "output_type": "execute_result"
        }
      ],
      "source": [
        "ask(\"What is the main premise of the book?\")"
      ]
    },
    {
      "cell_type": "code",
      "execution_count": 14,
      "metadata": {
        "colab": {
          "base_uri": "https://localhost:8080/",
          "height": 35
        },
        "id": "djIniPomDyCR",
        "outputId": "6b95264c-876c-4e42-c1b9-ea9b0b309cfb"
      },
      "outputs": [
        {
          "data": {
            "application/vnd.google.colaboratory.intrinsic+json": {
              "type": "string"
            },
            "text/plain": [
              "' The main concepts mentioned in this book are logotherapy, the meaning of life, and addiction.'"
            ]
          },
          "execution_count": 14,
          "metadata": {},
          "output_type": "execute_result"
        }
      ],
      "source": [
        "ask(\"What are the main concepts mentioned in this book?\")"
      ]
    },
    {
      "cell_type": "code",
      "execution_count": 15,
      "metadata": {
        "colab": {
          "base_uri": "https://localhost:8080/",
          "height": 70
        },
        "id": "JZMh7DFrD-EW",
        "outputId": "8a127e8e-449d-4b6e-bd58-07249b2364a8"
      },
      "outputs": [
        {
          "data": {
            "application/vnd.google.colaboratory.intrinsic+json": {
              "type": "string"
            },
            "text/plain": [
              "' Capos were prisoners in concentration camps who were chosen by the SS men to act as supervisors over the other prisoners. They were usually chosen from those prisoners whose characters promised to make them suitable for such procedures, and they were often harder on the prisoners than the guards. They were given privileges such as better food and were often able to save the lives of other prisoners.'"
            ]
          },
          "execution_count": 15,
          "metadata": {},
          "output_type": "execute_result"
        }
      ],
      "source": [
        "ask(\"Who were Capos?\")"
      ]
    },
    {
      "cell_type": "code",
      "execution_count": 16,
      "metadata": {
        "colab": {
          "base_uri": "https://localhost:8080/",
          "height": 87
        },
        "id": "WDyHr-NUEAdP",
        "outputId": "6d4c14b0-ae03-46d5-f69b-7e1b7203a433"
      },
      "outputs": [
        {
          "data": {
            "application/vnd.google.colaboratory.intrinsic+json": {
              "type": "string"
            },
            "text/plain": [
              "\" Logotherapy is a meaning-centered psychotherapy that focuses on the meaning of human existence and man's search for such a meaning. It is based on the idea that the primary motivational force in man is the striving to find a meaning in life. Logotherapy defocuses the vicious-circle formations and feedback mechanisms which play a role in the development of neuroses, and it tries to make the patient fully aware of his own responsibleness. It is neither teaching nor preaching, but rather it is like an eye specialist, trying to enable the patient to see the world as it really is.\""
            ]
          },
          "execution_count": 16,
          "metadata": {},
          "output_type": "execute_result"
        }
      ],
      "source": [
        "ask(\"What is logotherapy?\")"
      ]
    },
    {
      "cell_type": "code",
      "execution_count": 18,
      "metadata": {
        "colab": {
          "base_uri": "https://localhost:8080/",
          "height": 35
        },
        "id": "Gvzudk2KEH9w",
        "outputId": "a74a9d8d-9873-4859-f7cc-97364c67c393"
      },
      "outputs": [
        {
          "data": {
            "application/vnd.google.colaboratory.intrinsic+json": {
              "type": "string"
            },
            "text/plain": [
              "' The thought that there was a meaning in his life and that he could still fulfill a task.'"
            ]
          },
          "execution_count": 18,
          "metadata": {},
          "output_type": "execute_result"
        }
      ],
      "source": [
        "ask(\"What thought kept the author alive in the concentration camp?\")"
      ]
    },
    {
      "cell_type": "code",
      "execution_count": 19,
      "metadata": {
        "colab": {
          "base_uri": "https://localhost:8080/",
          "height": 35
        },
        "id": "8xc3JWfmEVUH",
        "outputId": "44d0b85d-0186-43e2-c0f5-22aecfbd53ea"
      },
      "outputs": [
        {
          "data": {
            "application/vnd.google.colaboratory.intrinsic+json": {
              "type": "string"
            },
            "text/plain": [
              "' Yes, this was a good survival strategy because it allowed people to find meaning in suffering and turn their predicaments into human achievements.'"
            ]
          },
          "execution_count": 19,
          "metadata": {},
          "output_type": "execute_result"
        }
      ],
      "source": [
        "ask(\"When someone developed the trait of seeing bad things in a good light, was this a good survival strategy?\")"
      ]
    },
    {
      "cell_type": "code",
      "execution_count": 20,
      "metadata": {
        "colab": {
          "base_uri": "https://localhost:8080/",
          "height": 35
        },
        "id": "sO17u_ayEYRA",
        "outputId": "19a39220-bbc9-4337-99ae-9d9849a4e5d2"
      },
      "outputs": [
        {
          "data": {
            "application/vnd.google.colaboratory.intrinsic+json": {
              "type": "string"
            },
            "text/plain": [
              "\" No, Dr. Frankl's sister did not survive the concentration camp.\""
            ]
          },
          "execution_count": 20,
          "metadata": {},
          "output_type": "execute_result"
        }
      ],
      "source": [
        "ask(\"Did Dr. Frankl sister survive the concentration camp?\")"
      ]
    },
    {
      "cell_type": "code",
      "execution_count": 21,
      "metadata": {
        "colab": {
          "base_uri": "https://localhost:8080/",
          "height": 53
        },
        "id": "zguB2ILuEdwg",
        "outputId": "109144c8-9514-40b6-c481-2ac82582e18c"
      },
      "outputs": [
        {
          "data": {
            "application/vnd.google.colaboratory.intrinsic+json": {
              "type": "string"
            },
            "text/plain": [
              "' The author told the elderly general practitioner to shave daily, if possible, even if it meant giving up their last piece of bread, in order to look younger and healthier and avoid being sent to the gas chambers.'"
            ]
          },
          "execution_count": 21,
          "metadata": {},
          "output_type": "execute_result"
        }
      ],
      "source": [
        "ask(\"What did the author tell the elderly general practitioner? \")"
      ]
    },
    {
      "cell_type": "markdown",
      "metadata": {
        "id": "JpAUeqy6EiZu"
      },
      "source": [
        "### Critique"
      ]
    },
    {
      "attachments": {},
      "cell_type": "markdown",
      "metadata": {},
      "source": [
        "What was the main premise of the book?\n",
        "`The main premise of the book is that hundreds of thousands of people are reaching out for a book that promises to deal with the question of a meaning to life, and that the book \n",
        "provides a compelling introduction to the most significant psychological movement of our day.\n",
        "`"
      ]
    },
    {
      "cell_type": "code",
      "execution_count": null,
      "metadata": {},
      "outputs": [],
      "source": [
        "# A very generic answer. The answer proposed by the first architecture was better."
      ]
    },
    {
      "cell_type": "markdown",
      "metadata": {},
      "source": [
        "---"
      ]
    },
    {
      "cell_type": "markdown",
      "metadata": {},
      "source": [
        "What are the main concepts mentioned in this book? ` The main concepts mentioned in this book are logotherapy, tragic optimism, and addiction.`"
      ]
    },
    {
      "cell_type": "code",
      "execution_count": null,
      "metadata": {},
      "outputs": [],
      "source": [
        "#  This is the same answer as Architexture 1 provided."
      ]
    },
    {
      "cell_type": "markdown",
      "metadata": {},
      "source": [
        "---"
      ]
    },
    {
      "attachments": {},
      "cell_type": "markdown",
      "metadata": {},
      "source": [
        "Who were Capos? `Capos were prisoners in concentration camps who were chosen by the SS men to act as supervisors over the other prisoners. They were usually chosen from those prisoners whose characters promised to make them suitable for such procedures, and they were often harder on the prisoners than the guards. They were given privileges such as better food and were often able to save the lives of other prisoners.`"
      ]
    },
    {
      "cell_type": "code",
      "execution_count": null,
      "metadata": {},
      "outputs": [],
      "source": [
        "# A better answer that focuses slightly on the psychological aspect of who was chosen to be a Capo."
      ]
    },
    {
      "cell_type": "markdown",
      "metadata": {},
      "source": [
        "---"
      ]
    },
    {
      "attachments": {},
      "cell_type": "markdown",
      "metadata": {},
      "source": [
        "What is logotherapy? `Logotherapy is a meaning-centered psychotherapy that focuses on the meaning of human existence and man's search for such a meaning. It is based on the idea that the primary motivational force in man is the striving to find a meaning in life. Logotherapy defocuses the vicious-circle formations and feedback mechanisms which play a role in the development of neuroses, and it tries to make the patient fully aware of his own responsibleness. It is neither teaching nor preaching, but rather it is like an eye specialist, trying to enable the patient to see the world as it really is.`"
      ]
    },
    {
      "cell_type": "code",
      "execution_count": null,
      "metadata": {},
      "outputs": [],
      "source": [
        "# The eye specialist analogy was taken directly from the book. This answer discarts the \n",
        "# comparrison to Freud and Adler's work and focuses on the core aspects of logotherapy."
      ]
    },
    {
      "cell_type": "markdown",
      "metadata": {},
      "source": [
        "---"
      ]
    },
    {
      "attachments": {},
      "cell_type": "markdown",
      "metadata": {},
      "source": [
        "What thought kept the author alive in the concentration camp? ` The thought that there was a meaning in his life and that he could still fulfill a task.`"
      ]
    },
    {
      "cell_type": "code",
      "execution_count": null,
      "metadata": {},
      "outputs": [],
      "source": [
        "# Generally the same anser as before but this one if more vague in terms of the final task."
      ]
    },
    {
      "cell_type": "markdown",
      "metadata": {},
      "source": [
        "---"
      ]
    },
    {
      "attachments": {},
      "cell_type": "markdown",
      "metadata": {},
      "source": [
        "When someone developed the trait of seeing bad things in a good light, was this a good survival strategy? `Yes, this was a good survival strategy because it allowed people to find meaning in suffering and turn their predicaments into human achievements.`"
      ]
    },
    {
      "cell_type": "code",
      "execution_count": null,
      "metadata": {},
      "outputs": [],
      "source": [
        "# Correct answer - a slight variation of the first one"
      ]
    },
    {
      "cell_type": "markdown",
      "metadata": {},
      "source": [
        "---"
      ]
    },
    {
      "attachments": {},
      "cell_type": "markdown",
      "metadata": {},
      "source": [
        "Did Dr. Frankl sister survive the concentration camp? `No, there is no mention of Dr. Frankl's sister surviving the concentration camp in the given context.`"
      ]
    },
    {
      "cell_type": "code",
      "execution_count": null,
      "metadata": {},
      "outputs": [],
      "source": [
        "# Incorrect answer. There is a brief mention in the book of his sistem surviving the concentration camp,\n",
        "# although it is not easy to conclude."
      ]
    },
    {
      "cell_type": "markdown",
      "metadata": {},
      "source": [
        "---"
      ]
    },
    {
      "attachments": {},
      "cell_type": "markdown",
      "metadata": {},
      "source": [
        "What did the author tell the elderly general practitioner? `The author told the elderly general practitioner to shave daily, if possible, even if it meant giving up their last piece of bread, in order to look younger and healthier and avoid being sent to the gas chambers.`"
      ]
    },
    {
      "cell_type": "code",
      "execution_count": null,
      "metadata": {},
      "outputs": [],
      "source": [
        "# This isn't true. The correct answer is:\"What would have happened, Doctor, if \n",
        "# you had died first, and your wife would have had to survive you?\""
      ]
    },
    {
      "cell_type": "code",
      "execution_count": null,
      "metadata": {},
      "outputs": [],
      "source": []
    }
  ],
  "metadata": {
    "colab": {
      "provenance": []
    },
    "kernelspec": {
      "display_name": "Python 3",
      "name": "python3"
    },
    "language_info": {
      "codemirror_mode": {
        "name": "ipython",
        "version": 3
      },
      "file_extension": ".py",
      "mimetype": "text/x-python",
      "name": "python",
      "nbconvert_exporter": "python",
      "pygments_lexer": "ipython3",
      "version": "3.7.5"
    },
    "widgets": {
      "application/vnd.jupyter.widget-state+json": {
        "0b6bd6ed55824609a799fa40482dda7f": {
          "model_module": "@jupyter-widgets/base",
          "model_module_version": "1.2.0",
          "model_name": "LayoutModel",
          "state": {
            "_model_module": "@jupyter-widgets/base",
            "_model_module_version": "1.2.0",
            "_model_name": "LayoutModel",
            "_view_count": null,
            "_view_module": "@jupyter-widgets/base",
            "_view_module_version": "1.2.0",
            "_view_name": "LayoutView",
            "align_content": null,
            "align_items": null,
            "align_self": null,
            "border": null,
            "bottom": null,
            "display": null,
            "flex": null,
            "flex_flow": null,
            "grid_area": null,
            "grid_auto_columns": null,
            "grid_auto_flow": null,
            "grid_auto_rows": null,
            "grid_column": null,
            "grid_gap": null,
            "grid_row": null,
            "grid_template_areas": null,
            "grid_template_columns": null,
            "grid_template_rows": null,
            "height": null,
            "justify_content": null,
            "justify_items": null,
            "left": null,
            "margin": null,
            "max_height": null,
            "max_width": null,
            "min_height": null,
            "min_width": null,
            "object_fit": null,
            "object_position": null,
            "order": null,
            "overflow": null,
            "overflow_x": null,
            "overflow_y": null,
            "padding": null,
            "right": null,
            "top": null,
            "visibility": null,
            "width": null
          }
        },
        "2337aa41b6ba445d9ab607220b229b1e": {
          "model_module": "@jupyter-widgets/controls",
          "model_module_version": "1.5.0",
          "model_name": "HTMLModel",
          "state": {
            "_dom_classes": [],
            "_model_module": "@jupyter-widgets/controls",
            "_model_module_version": "1.5.0",
            "_model_name": "HTMLModel",
            "_view_count": null,
            "_view_module": "@jupyter-widgets/controls",
            "_view_module_version": "1.5.0",
            "_view_name": "HTMLView",
            "description": "",
            "description_tooltip": null,
            "layout": "IPY_MODEL_0b6bd6ed55824609a799fa40482dda7f",
            "placeholder": "​",
            "style": "IPY_MODEL_2e9e69835253411787b940933ad0c547",
            "value": "Downloading model_final.pth: 100%"
          }
        },
        "288bce9bef60420da3044cdfec7e88ee": {
          "model_module": "@jupyter-widgets/controls",
          "model_module_version": "1.5.0",
          "model_name": "HBoxModel",
          "state": {
            "_dom_classes": [],
            "_model_module": "@jupyter-widgets/controls",
            "_model_module_version": "1.5.0",
            "_model_name": "HBoxModel",
            "_view_count": null,
            "_view_module": "@jupyter-widgets/controls",
            "_view_module_version": "1.5.0",
            "_view_name": "HBoxView",
            "box_style": "",
            "children": [
              "IPY_MODEL_2337aa41b6ba445d9ab607220b229b1e",
              "IPY_MODEL_7279dce3ce6645b2b3875039fb94bdd5",
              "IPY_MODEL_861a3dcc9dff4e31b809927a1440f408"
            ],
            "layout": "IPY_MODEL_e2fcbb0f6768457d8867e3eba23d3d8b"
          }
        },
        "2e9e69835253411787b940933ad0c547": {
          "model_module": "@jupyter-widgets/controls",
          "model_module_version": "1.5.0",
          "model_name": "DescriptionStyleModel",
          "state": {
            "_model_module": "@jupyter-widgets/controls",
            "_model_module_version": "1.5.0",
            "_model_name": "DescriptionStyleModel",
            "_view_count": null,
            "_view_module": "@jupyter-widgets/base",
            "_view_module_version": "1.2.0",
            "_view_name": "StyleView",
            "description_width": ""
          }
        },
        "37db45d9350a4fa8b6d9f63ed1dcd842": {
          "model_module": "@jupyter-widgets/controls",
          "model_module_version": "1.5.0",
          "model_name": "DescriptionStyleModel",
          "state": {
            "_model_module": "@jupyter-widgets/controls",
            "_model_module_version": "1.5.0",
            "_model_name": "DescriptionStyleModel",
            "_view_count": null,
            "_view_module": "@jupyter-widgets/base",
            "_view_module_version": "1.2.0",
            "_view_name": "StyleView",
            "description_width": ""
          }
        },
        "5a805182ca8e41acb3198e27df751960": {
          "model_module": "@jupyter-widgets/controls",
          "model_module_version": "1.5.0",
          "model_name": "ProgressStyleModel",
          "state": {
            "_model_module": "@jupyter-widgets/controls",
            "_model_module_version": "1.5.0",
            "_model_name": "ProgressStyleModel",
            "_view_count": null,
            "_view_module": "@jupyter-widgets/base",
            "_view_module_version": "1.2.0",
            "_view_name": "StyleView",
            "bar_color": null,
            "description_width": ""
          }
        },
        "6444c163fee34079ab28736094ad783f": {
          "model_module": "@jupyter-widgets/base",
          "model_module_version": "1.2.0",
          "model_name": "LayoutModel",
          "state": {
            "_model_module": "@jupyter-widgets/base",
            "_model_module_version": "1.2.0",
            "_model_name": "LayoutModel",
            "_view_count": null,
            "_view_module": "@jupyter-widgets/base",
            "_view_module_version": "1.2.0",
            "_view_name": "LayoutView",
            "align_content": null,
            "align_items": null,
            "align_self": null,
            "border": null,
            "bottom": null,
            "display": null,
            "flex": null,
            "flex_flow": null,
            "grid_area": null,
            "grid_auto_columns": null,
            "grid_auto_flow": null,
            "grid_auto_rows": null,
            "grid_column": null,
            "grid_gap": null,
            "grid_row": null,
            "grid_template_areas": null,
            "grid_template_columns": null,
            "grid_template_rows": null,
            "height": null,
            "justify_content": null,
            "justify_items": null,
            "left": null,
            "margin": null,
            "max_height": null,
            "max_width": null,
            "min_height": null,
            "min_width": null,
            "object_fit": null,
            "object_position": null,
            "order": null,
            "overflow": null,
            "overflow_x": null,
            "overflow_y": null,
            "padding": null,
            "right": null,
            "top": null,
            "visibility": null,
            "width": null
          }
        },
        "645a70601bce40ebb09e8def70c8bb8d": {
          "model_module": "@jupyter-widgets/base",
          "model_module_version": "1.2.0",
          "model_name": "LayoutModel",
          "state": {
            "_model_module": "@jupyter-widgets/base",
            "_model_module_version": "1.2.0",
            "_model_name": "LayoutModel",
            "_view_count": null,
            "_view_module": "@jupyter-widgets/base",
            "_view_module_version": "1.2.0",
            "_view_name": "LayoutView",
            "align_content": null,
            "align_items": null,
            "align_self": null,
            "border": null,
            "bottom": null,
            "display": null,
            "flex": null,
            "flex_flow": null,
            "grid_area": null,
            "grid_auto_columns": null,
            "grid_auto_flow": null,
            "grid_auto_rows": null,
            "grid_column": null,
            "grid_gap": null,
            "grid_row": null,
            "grid_template_areas": null,
            "grid_template_columns": null,
            "grid_template_rows": null,
            "height": null,
            "justify_content": null,
            "justify_items": null,
            "left": null,
            "margin": null,
            "max_height": null,
            "max_width": null,
            "min_height": null,
            "min_width": null,
            "object_fit": null,
            "object_position": null,
            "order": null,
            "overflow": null,
            "overflow_x": null,
            "overflow_y": null,
            "padding": null,
            "right": null,
            "top": null,
            "visibility": null,
            "width": null
          }
        },
        "648ac1a2d39a4e4280d01c072b07d6ce": {
          "model_module": "@jupyter-widgets/controls",
          "model_module_version": "1.5.0",
          "model_name": "DescriptionStyleModel",
          "state": {
            "_model_module": "@jupyter-widgets/controls",
            "_model_module_version": "1.5.0",
            "_model_name": "DescriptionStyleModel",
            "_view_count": null,
            "_view_module": "@jupyter-widgets/base",
            "_view_module_version": "1.2.0",
            "_view_name": "StyleView",
            "description_width": ""
          }
        },
        "7279dce3ce6645b2b3875039fb94bdd5": {
          "model_module": "@jupyter-widgets/controls",
          "model_module_version": "1.5.0",
          "model_name": "FloatProgressModel",
          "state": {
            "_dom_classes": [],
            "_model_module": "@jupyter-widgets/controls",
            "_model_module_version": "1.5.0",
            "_model_name": "FloatProgressModel",
            "_view_count": null,
            "_view_module": "@jupyter-widgets/controls",
            "_view_module_version": "1.5.0",
            "_view_name": "ProgressView",
            "bar_style": "success",
            "description": "",
            "description_tooltip": null,
            "layout": "IPY_MODEL_645a70601bce40ebb09e8def70c8bb8d",
            "max": 330185761,
            "min": 0,
            "orientation": "horizontal",
            "style": "IPY_MODEL_5a805182ca8e41acb3198e27df751960",
            "value": 330185761
          }
        },
        "770377dcb4124213b12c1bc8359f2a61": {
          "model_module": "@jupyter-widgets/controls",
          "model_module_version": "1.5.0",
          "model_name": "FloatProgressModel",
          "state": {
            "_dom_classes": [],
            "_model_module": "@jupyter-widgets/controls",
            "_model_module_version": "1.5.0",
            "_model_name": "FloatProgressModel",
            "_view_count": null,
            "_view_module": "@jupyter-widgets/controls",
            "_view_module_version": "1.5.0",
            "_view_name": "ProgressView",
            "bar_style": "success",
            "description": "",
            "description_tooltip": null,
            "layout": "IPY_MODEL_8a67358e9a664e97b2f618ebbf8ddabf",
            "max": 5374,
            "min": 0,
            "orientation": "horizontal",
            "style": "IPY_MODEL_955b7fedafff46fe9c2f1b920a47e1d3",
            "value": 5374
          }
        },
        "7b9d4f0356fd41aea5bc181f75f41250": {
          "model_module": "@jupyter-widgets/controls",
          "model_module_version": "1.5.0",
          "model_name": "HTMLModel",
          "state": {
            "_dom_classes": [],
            "_model_module": "@jupyter-widgets/controls",
            "_model_module_version": "1.5.0",
            "_model_name": "HTMLModel",
            "_view_count": null,
            "_view_module": "@jupyter-widgets/controls",
            "_view_module_version": "1.5.0",
            "_view_name": "HTMLView",
            "description": "",
            "description_tooltip": null,
            "layout": "IPY_MODEL_845752177d1c4aca880dd20e5a0ef794",
            "placeholder": "​",
            "style": "IPY_MODEL_37db45d9350a4fa8b6d9f63ed1dcd842",
            "value": " 5.37k/5.37k [00:00&lt;00:00, 62.4kB/s]"
          }
        },
        "845752177d1c4aca880dd20e5a0ef794": {
          "model_module": "@jupyter-widgets/base",
          "model_module_version": "1.2.0",
          "model_name": "LayoutModel",
          "state": {
            "_model_module": "@jupyter-widgets/base",
            "_model_module_version": "1.2.0",
            "_model_name": "LayoutModel",
            "_view_count": null,
            "_view_module": "@jupyter-widgets/base",
            "_view_module_version": "1.2.0",
            "_view_name": "LayoutView",
            "align_content": null,
            "align_items": null,
            "align_self": null,
            "border": null,
            "bottom": null,
            "display": null,
            "flex": null,
            "flex_flow": null,
            "grid_area": null,
            "grid_auto_columns": null,
            "grid_auto_flow": null,
            "grid_auto_rows": null,
            "grid_column": null,
            "grid_gap": null,
            "grid_row": null,
            "grid_template_areas": null,
            "grid_template_columns": null,
            "grid_template_rows": null,
            "height": null,
            "justify_content": null,
            "justify_items": null,
            "left": null,
            "margin": null,
            "max_height": null,
            "max_width": null,
            "min_height": null,
            "min_width": null,
            "object_fit": null,
            "object_position": null,
            "order": null,
            "overflow": null,
            "overflow_x": null,
            "overflow_y": null,
            "padding": null,
            "right": null,
            "top": null,
            "visibility": null,
            "width": null
          }
        },
        "861a3dcc9dff4e31b809927a1440f408": {
          "model_module": "@jupyter-widgets/controls",
          "model_module_version": "1.5.0",
          "model_name": "HTMLModel",
          "state": {
            "_dom_classes": [],
            "_model_module": "@jupyter-widgets/controls",
            "_model_module_version": "1.5.0",
            "_model_name": "HTMLModel",
            "_view_count": null,
            "_view_module": "@jupyter-widgets/controls",
            "_view_module_version": "1.5.0",
            "_view_name": "HTMLView",
            "description": "",
            "description_tooltip": null,
            "layout": "IPY_MODEL_93273bccc1664b32bb97fc45e628d7e2",
            "placeholder": "​",
            "style": "IPY_MODEL_e3fae821cafe4a80980c09a0d8e6aee7",
            "value": " 330M/330M [00:03&lt;00:00, 107MB/s]"
          }
        },
        "8a67358e9a664e97b2f618ebbf8ddabf": {
          "model_module": "@jupyter-widgets/base",
          "model_module_version": "1.2.0",
          "model_name": "LayoutModel",
          "state": {
            "_model_module": "@jupyter-widgets/base",
            "_model_module_version": "1.2.0",
            "_model_name": "LayoutModel",
            "_view_count": null,
            "_view_module": "@jupyter-widgets/base",
            "_view_module_version": "1.2.0",
            "_view_name": "LayoutView",
            "align_content": null,
            "align_items": null,
            "align_self": null,
            "border": null,
            "bottom": null,
            "display": null,
            "flex": null,
            "flex_flow": null,
            "grid_area": null,
            "grid_auto_columns": null,
            "grid_auto_flow": null,
            "grid_auto_rows": null,
            "grid_column": null,
            "grid_gap": null,
            "grid_row": null,
            "grid_template_areas": null,
            "grid_template_columns": null,
            "grid_template_rows": null,
            "height": null,
            "justify_content": null,
            "justify_items": null,
            "left": null,
            "margin": null,
            "max_height": null,
            "max_width": null,
            "min_height": null,
            "min_width": null,
            "object_fit": null,
            "object_position": null,
            "order": null,
            "overflow": null,
            "overflow_x": null,
            "overflow_y": null,
            "padding": null,
            "right": null,
            "top": null,
            "visibility": null,
            "width": null
          }
        },
        "8cda6600a2e74c29ad9bcd3b420435f5": {
          "model_module": "@jupyter-widgets/controls",
          "model_module_version": "1.5.0",
          "model_name": "HTMLModel",
          "state": {
            "_dom_classes": [],
            "_model_module": "@jupyter-widgets/controls",
            "_model_module_version": "1.5.0",
            "_model_name": "HTMLModel",
            "_view_count": null,
            "_view_module": "@jupyter-widgets/controls",
            "_view_module_version": "1.5.0",
            "_view_name": "HTMLView",
            "description": "",
            "description_tooltip": null,
            "layout": "IPY_MODEL_9f9af3f44ca543869b3507f3e506ff58",
            "placeholder": "​",
            "style": "IPY_MODEL_648ac1a2d39a4e4280d01c072b07d6ce",
            "value": "Downloading (…)50_FPN_3x/config.yml: 100%"
          }
        },
        "93273bccc1664b32bb97fc45e628d7e2": {
          "model_module": "@jupyter-widgets/base",
          "model_module_version": "1.2.0",
          "model_name": "LayoutModel",
          "state": {
            "_model_module": "@jupyter-widgets/base",
            "_model_module_version": "1.2.0",
            "_model_name": "LayoutModel",
            "_view_count": null,
            "_view_module": "@jupyter-widgets/base",
            "_view_module_version": "1.2.0",
            "_view_name": "LayoutView",
            "align_content": null,
            "align_items": null,
            "align_self": null,
            "border": null,
            "bottom": null,
            "display": null,
            "flex": null,
            "flex_flow": null,
            "grid_area": null,
            "grid_auto_columns": null,
            "grid_auto_flow": null,
            "grid_auto_rows": null,
            "grid_column": null,
            "grid_gap": null,
            "grid_row": null,
            "grid_template_areas": null,
            "grid_template_columns": null,
            "grid_template_rows": null,
            "height": null,
            "justify_content": null,
            "justify_items": null,
            "left": null,
            "margin": null,
            "max_height": null,
            "max_width": null,
            "min_height": null,
            "min_width": null,
            "object_fit": null,
            "object_position": null,
            "order": null,
            "overflow": null,
            "overflow_x": null,
            "overflow_y": null,
            "padding": null,
            "right": null,
            "top": null,
            "visibility": null,
            "width": null
          }
        },
        "955b7fedafff46fe9c2f1b920a47e1d3": {
          "model_module": "@jupyter-widgets/controls",
          "model_module_version": "1.5.0",
          "model_name": "ProgressStyleModel",
          "state": {
            "_model_module": "@jupyter-widgets/controls",
            "_model_module_version": "1.5.0",
            "_model_name": "ProgressStyleModel",
            "_view_count": null,
            "_view_module": "@jupyter-widgets/base",
            "_view_module_version": "1.2.0",
            "_view_name": "StyleView",
            "bar_color": null,
            "description_width": ""
          }
        },
        "9f9af3f44ca543869b3507f3e506ff58": {
          "model_module": "@jupyter-widgets/base",
          "model_module_version": "1.2.0",
          "model_name": "LayoutModel",
          "state": {
            "_model_module": "@jupyter-widgets/base",
            "_model_module_version": "1.2.0",
            "_model_name": "LayoutModel",
            "_view_count": null,
            "_view_module": "@jupyter-widgets/base",
            "_view_module_version": "1.2.0",
            "_view_name": "LayoutView",
            "align_content": null,
            "align_items": null,
            "align_self": null,
            "border": null,
            "bottom": null,
            "display": null,
            "flex": null,
            "flex_flow": null,
            "grid_area": null,
            "grid_auto_columns": null,
            "grid_auto_flow": null,
            "grid_auto_rows": null,
            "grid_column": null,
            "grid_gap": null,
            "grid_row": null,
            "grid_template_areas": null,
            "grid_template_columns": null,
            "grid_template_rows": null,
            "height": null,
            "justify_content": null,
            "justify_items": null,
            "left": null,
            "margin": null,
            "max_height": null,
            "max_width": null,
            "min_height": null,
            "min_width": null,
            "object_fit": null,
            "object_position": null,
            "order": null,
            "overflow": null,
            "overflow_x": null,
            "overflow_y": null,
            "padding": null,
            "right": null,
            "top": null,
            "visibility": null,
            "width": null
          }
        },
        "e2fcbb0f6768457d8867e3eba23d3d8b": {
          "model_module": "@jupyter-widgets/base",
          "model_module_version": "1.2.0",
          "model_name": "LayoutModel",
          "state": {
            "_model_module": "@jupyter-widgets/base",
            "_model_module_version": "1.2.0",
            "_model_name": "LayoutModel",
            "_view_count": null,
            "_view_module": "@jupyter-widgets/base",
            "_view_module_version": "1.2.0",
            "_view_name": "LayoutView",
            "align_content": null,
            "align_items": null,
            "align_self": null,
            "border": null,
            "bottom": null,
            "display": null,
            "flex": null,
            "flex_flow": null,
            "grid_area": null,
            "grid_auto_columns": null,
            "grid_auto_flow": null,
            "grid_auto_rows": null,
            "grid_column": null,
            "grid_gap": null,
            "grid_row": null,
            "grid_template_areas": null,
            "grid_template_columns": null,
            "grid_template_rows": null,
            "height": null,
            "justify_content": null,
            "justify_items": null,
            "left": null,
            "margin": null,
            "max_height": null,
            "max_width": null,
            "min_height": null,
            "min_width": null,
            "object_fit": null,
            "object_position": null,
            "order": null,
            "overflow": null,
            "overflow_x": null,
            "overflow_y": null,
            "padding": null,
            "right": null,
            "top": null,
            "visibility": null,
            "width": null
          }
        },
        "e3fae821cafe4a80980c09a0d8e6aee7": {
          "model_module": "@jupyter-widgets/controls",
          "model_module_version": "1.5.0",
          "model_name": "DescriptionStyleModel",
          "state": {
            "_model_module": "@jupyter-widgets/controls",
            "_model_module_version": "1.5.0",
            "_model_name": "DescriptionStyleModel",
            "_view_count": null,
            "_view_module": "@jupyter-widgets/base",
            "_view_module_version": "1.2.0",
            "_view_name": "StyleView",
            "description_width": ""
          }
        },
        "f3cb9be39d3d430d93dba447d7b0559e": {
          "model_module": "@jupyter-widgets/controls",
          "model_module_version": "1.5.0",
          "model_name": "HBoxModel",
          "state": {
            "_dom_classes": [],
            "_model_module": "@jupyter-widgets/controls",
            "_model_module_version": "1.5.0",
            "_model_name": "HBoxModel",
            "_view_count": null,
            "_view_module": "@jupyter-widgets/controls",
            "_view_module_version": "1.5.0",
            "_view_name": "HBoxView",
            "box_style": "",
            "children": [
              "IPY_MODEL_8cda6600a2e74c29ad9bcd3b420435f5",
              "IPY_MODEL_770377dcb4124213b12c1bc8359f2a61",
              "IPY_MODEL_7b9d4f0356fd41aea5bc181f75f41250"
            ],
            "layout": "IPY_MODEL_6444c163fee34079ab28736094ad783f"
          }
        }
      }
    }
  },
  "nbformat": 4,
  "nbformat_minor": 0
}
